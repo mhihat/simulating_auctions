{
 "cells": [
  {
   "cell_type": "markdown",
   "metadata": {},
   "source": [
    "# Generating Table III from Marshall1994"
   ]
  },
  {
   "cell_type": "code",
   "execution_count": 2,
   "metadata": {},
   "outputs": [],
   "source": [
    "from scipy import stats\n",
    "from functions import *\n",
    "from tqdm.notebook import tqdm"
   ]
  },
  {
   "cell_type": "code",
   "execution_count": 10,
   "metadata": {},
   "outputs": [
    {
     "data": {
      "application/vnd.jupyter.widget-view+json": {
       "model_id": "1ec7e6f0e30f427e8eadbe63877715c4",
       "version_major": 2,
       "version_minor": 0
      },
      "text/plain": [
       "  0%|          | 0/4 [00:00<?, ?it/s]"
      ]
     },
     "metadata": {},
     "output_type": "display_data"
    },
    {
     "name": "stdout",
     "output_type": "stream",
     "text": [
      "Coalition vs Coalition\n",
      "k1 1 | k2 4 | auct. revenue 0.506 | k1 member surplus 0.085 | k2 member surplus 0.057\n",
      "k1 2 | k2 3 | auct. revenue 0.587 | k1 member surplus 0.053 | k2 member surplus 0.046\n",
      "k1 3 | k2 2 | auct. revenue 0.588 | k1 member surplus 0.047 | k2 member surplus 0.052\n",
      "k1 4 | k2 1 | auct. revenue 0.506 | k1 member surplus 0.057 | k2 member surplus 0.086\n"
     ]
    }
   ],
   "source": [
    "batch_size = 100_000\n",
    "\n",
    "n = 5\n",
    "k_ = [1,2,3,4]\n",
    "\n",
    "means_ = {'auct':[],'in':[],'out':[]}\n",
    "\n",
    "for k in tqdm(k_) :\n",
    "    v_out_ = stats.beta(a=n-k,b=1).rvs(size=batch_size)\n",
    "    v_in_ = stats.beta(a=k,b=1).rvs(size=batch_size)\n",
    "    \n",
    "    out = marshall1_close_form_boundary(k,n-k)\n",
    "    b_in_, b_out_ = np.array([bid1_f(v,out) for v in  v_in_]),np.array([bid2_f(v,out) for v in  v_out_])\n",
    "    \n",
    "    means_['auct'].append(np.mean(np.maximum(b_in_,b_out_)))\n",
    "    means_['in'].append(np.mean((v_in_-b_in_)*(b_in_>=b_out_))/k)\n",
    "    means_['out'].append(np.mean((v_out_-b_out_)*(b_out_>=b_in_))/(n-k))\n",
    "    \n",
    "print(\"Coalition vs Coalition\")\n",
    "for i in range(len(k_)):\n",
    "    print(\"k1 {} | k2 {} | auct. revenue {:0.3f} | k1 member surplus {:0.3f} | k2 member surplus {:0.3f}\".format(k_[i],n-k_[i],means_['auct'][i],means_['in'][i],means_['out'][i]))\n",
    "    "
   ]
  },
  {
   "cell_type": "code",
   "execution_count": 9,
   "metadata": {},
   "outputs": [
    {
     "data": {
      "application/vnd.jupyter.widget-view+json": {
       "model_id": "f2f62af6d1ab492b8f59170d8c149bf3",
       "version_major": 2,
       "version_minor": 0
      },
      "text/plain": [
       "  0%|          | 0/4 [00:00<?, ?it/s]"
      ]
     },
     "metadata": {},
     "output_type": "display_data"
    },
    {
     "name": "stdout",
     "output_type": "stream",
     "text": [
      "Coalition vs Individuals\n",
      "k1 1 | k2 4 | auct. revenue 0.667 | k1 member surplus 0.033 | k2 member surplus 0.033\n",
      "k1 2 | k2 3 | auct. revenue 0.651 | k1 member surplus 0.035 | k2 member surplus 0.037\n",
      "k1 3 | k2 2 | auct. revenue 0.609 | k1 member surplus 0.041 | k2 member surplus 0.049\n",
      "k1 4 | k2 1 | auct. revenue 0.507 | k1 member surplus 0.056 | k2 member surplus 0.085\n"
     ]
    }
   ],
   "source": [
    "batch_size = 100_000\n",
    "\n",
    "n = 5\n",
    "k_ = [1,2,3,4]\n",
    "\n",
    "means_ = {'auct':[],'in':[],'out':[]}\n",
    "\n",
    "for k in tqdm(k_) :\n",
    "    v_out_ = stats.beta(a=n-k,b=1).rvs(size=batch_size)\n",
    "    v_in_ = stats.beta(a=k,b=1).rvs(size=batch_size)\n",
    "    \n",
    "    out = marshall2_iterative_find_boundary_CUSTOM(k,n-k,eps=10**-3)\n",
    "    b_in_, b_out_ = np.array([bid1_f(v,out) for v in  v_in_]),np.array([bid2_f(v,out) for v in  v_out_])\n",
    "    \n",
    "    means_['auct'].append(np.mean(np.maximum(b_in_,b_out_)))\n",
    "    means_['in'].append(np.mean((v_in_-b_in_)*(b_in_>=b_out_))/k)\n",
    "    means_['out'].append(np.mean((v_out_-b_out_)*(b_out_>=b_in_))/(n-k))\n",
    "    \n",
    "print(\"Coalition vs Individuals\")\n",
    "for i in range(len(k_)):\n",
    "    print(\"k1 {} | k2 {} | auct. revenue {:0.3f} | k1 member surplus {:0.3f} | k2 member surplus {:0.3f}\".format(k_[i],n-k_[i],means_['auct'][i],means_['in'][i],means_['out'][i],3))"
   ]
  }
 ],
 "metadata": {
  "interpreter": {
   "hash": "6383aeee208c7c4871674175248fe5a53f0ead67f255309f3ac9f86a728c0862"
  },
  "kernelspec": {
   "display_name": "Python 3.8.5 64-bit ('.env': venv)",
   "language": "python",
   "name": "python3"
  },
  "language_info": {
   "codemirror_mode": {
    "name": "ipython",
    "version": 3
   },
   "file_extension": ".py",
   "mimetype": "text/x-python",
   "name": "python",
   "nbconvert_exporter": "python",
   "pygments_lexer": "ipython3",
   "version": "3.8.5"
  },
  "orig_nbformat": 4
 },
 "nbformat": 4,
 "nbformat_minor": 2
}
