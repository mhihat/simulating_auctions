{
 "cells": [
  {
   "cell_type": "markdown",
   "metadata": {},
   "source": [
    "# Scenarios, Numerical integration"
   ]
  },
  {
   "cell_type": "code",
   "execution_count": 1,
   "metadata": {},
   "outputs": [],
   "source": [
    "import numpy as np\n",
    "import matplotlib.pyplot as plt\n",
    "import pickle\n",
    "\n",
    "from scipy import stats\n",
    "from scipy import optimize\n",
    "from scipy import integrate\n",
    "from scipy import misc\n",
    "\n",
    "from tqdm.notebook import tqdm\n",
    "import timeit"
   ]
  },
  {
   "cell_type": "markdown",
   "metadata": {},
   "source": [
    "### Best response functions & Utilities"
   ]
  },
  {
   "cell_type": "code",
   "execution_count": 2,
   "metadata": {},
   "outputs": [],
   "source": [
    "def BR_OPTIMIZE_f(v,rv) :\n",
    "    \"\"\"\n",
    "    Using optimize.minimize, it returns the best response function against the NON-NEGATIVE random variable rv :\n",
    "    v \\mapsto argmax_b (v-b)G(b)\n",
    "    where G is the cdf of rv\n",
    "    \"\"\"\n",
    "    minus_utility_v = lambda b : -(v-b)*rv.cdf(b)\n",
    "    opt = optimize.minimize_scalar(minus_utility_v,method=\"bounded\",bracket=(0,1),bounds=(0,1))\n",
    "    return opt.x"
   ]
  },
  {
   "cell_type": "code",
   "execution_count": 3,
   "metadata": {},
   "outputs": [],
   "source": [
    "def array_to_f(x,x_,y_) :\n",
    "    return y_[min(np.searchsorted(x_,x),len(x_)-1)]"
   ]
  },
  {
   "cell_type": "code",
   "execution_count": 5,
   "metadata": {},
   "outputs": [],
   "source": [
    "def array_to_inverse_f(y,x_,y_) :\n",
    "    return x_[min(np.searchsorted(y_,y),len(y_)-1)]"
   ]
  },
  {
   "cell_type": "code",
   "execution_count": 6,
   "metadata": {},
   "outputs": [],
   "source": [
    "def f_to_array(f,x_,) :\n",
    "    return np.array([f(x) for x in x_])"
   ]
  },
  {
   "cell_type": "markdown",
   "metadata": {},
   "source": [
    "### Marshall methods"
   ]
  },
  {
   "cell_type": "code",
   "execution_count": 7,
   "metadata": {},
   "outputs": [],
   "source": [
    "def marshall1_sub_method(tstar,k1,k2,N=10_000,p=5,correct=True) :\n",
    "    l1 = 1+1/k2\n",
    "    l2 = 1+1/k1\n",
    "    \n",
    "    output = {}\n",
    "    output['tstar'] = tstar\n",
    "    output['N']=N\n",
    "    output['breakpoint'] = 0\n",
    "    output['l1'] = l1\n",
    "    output['l2'] = l2\n",
    "    output['k1'] = k1\n",
    "    output['k2'] = k2\n",
    "    \n",
    "    delta1_ = np.zeros(N+2)\n",
    "    delta2_ = np.zeros(N+2)\n",
    "\n",
    "    a_ = np.zeros(p+1)\n",
    "    b_ = np.zeros(p+1)\n",
    "    \n",
    "    delta1_[N+1] = 1/tstar\n",
    "    delta2_[N+1] = 1/tstar\n",
    "    \n",
    "    for j in np.arange(N+1,0,-1) : #j=N+1,...,1\n",
    "        tj = tstar*j/(N+1)\n",
    "                    \n",
    "        #values at tj, equation (17)\n",
    "        a_[0] = delta1_[j] \n",
    "        b_[0] = delta2_[j]\n",
    "        \n",
    "        ## updating the Taylors approximations astar_,bstar_ equations (19, 20)\n",
    "        \n",
    "        for l in range(p) :\n",
    "            sum1 = np.sum([i*b_[l+1-i]*( a_[i-1]+tj*a_[i]) for i in range(1,l+1)])\n",
    "            sum2 = np.sum([i*a_[l+1-i]*( b_[i-1]+tj*b_[i]) for i in range(1,l+1)])\n",
    "    \n",
    "            a_[l+1] = 1/((l+1)*(b_[0]-1)*tj) * ( (1/k1-(l+1)*(b_[0]-1))*a_[l]-sum1 )\n",
    "            b_[l+1] = 1/((l+1)*(a_[0]-1)*tj) * ( (1/k2-(l+1)*(a_[0]-1))*b_[l]-sum2 )\n",
    "        \n",
    "        tjm1 = tstar*(j-1)/(N+1)\n",
    "            \n",
    "        delta1_[j-1] = np.polynomial.polynomial.polyval(tjm1-tj,a_) #updating at tj-1\n",
    "        delta2_[j-1] = np.polynomial.polynomial.polyval(tjm1-tj,b_)\n",
    "        \n",
    "        if(output['breakpoint'] == 0 and ((delta1_[j-1]-l1)**2+(delta2_[j-1]-l2)**2 > ((delta1_[j]-l1)**2+(delta2_[j]-l2)**2))) :\n",
    "            output['breakpoint'] = j\n",
    "            if(correct) :\n",
    "                break\n",
    "    \n",
    "    output['eps_star'] = np.sqrt(((delta1_[output['breakpoint']]-l1)**2+(delta2_[output['breakpoint']]-l2)**2))\n",
    "    #output['precision'] = np.min(((delta1_-l1)**2+(delta2_-l2)**2))\n",
    "    if(correct) :\n",
    "        ind = output['breakpoint']\n",
    "        delta1_[:ind+1] = np.linspace(l1,delta1_[ind],ind+1)\n",
    "        delta2_[:ind+1] = np.linspace(l2,delta2_[ind],ind+1)\n",
    "        \n",
    "        #patch_ = 1/(np.linspace(0,out['tstar'],out['N']+2)[1:])\n",
    "        #delta1_[1:] = np.where(delta1_[1:] > patch_, patch_,delta1_[1:])\n",
    "        #delta2_[1:] = np.where(delta2_[1:] > patch_, patch_,delta2_[1:])\n",
    "        \n",
    "    output['delta1_']=delta1_\n",
    "    output['delta2_']=delta2_\n",
    "    output['values1_']=np.linspace(0,tstar,N+2)*delta1_\n",
    "    output['values2_']=np.linspace(0,tstar,N+2)*delta2_\n",
    "    return output"
   ]
  },
  {
   "cell_type": "code",
   "execution_count": 8,
   "metadata": {},
   "outputs": [],
   "source": [
    "def marshall1_close_form_boundary(k1,k2,N=10_000,p=5,correct=True) :\n",
    "    tstar = k1/(k1+1)\n",
    "    \n",
    "    if(k1!=k2) :\n",
    "        tstar = 1-np.power(1+k1,k2/(k1-k2))/np.power(1+k2,k1/(k1-k2))*np.power((k2*(1+k1))/(k1*(1+k2)),k1*k2/(k1-k2))\n",
    "        \n",
    "    return marshall1_sub_method(tstar,k1,k2,N=N,p=p,correct=correct)"
   ]
  },
  {
   "cell_type": "code",
   "execution_count": 9,
   "metadata": {},
   "outputs": [],
   "source": [
    "def marshall2_sub_method(tstar,k1,k2,N=10_000,p=5,correct=True) :\n",
    "    delta1_ = np.zeros(N+2)\n",
    "    delta2_ = np.zeros(N+2)\n",
    "    \n",
    "    l1 = 1+1/k2\n",
    "    l2 = 1+1/(k1+k2-1)\n",
    "    \n",
    "    output = {}\n",
    "    output['tstar'] = tstar\n",
    "    output['N']=N\n",
    "    output['k1'] = k1\n",
    "    output['k2'] = k2\n",
    "    output['breakpoint'] = 0\n",
    "    output['l1'] = l1\n",
    "    output['l2'] = l2\n",
    "    \n",
    "    a_ = np.zeros(p+1)\n",
    "    b_ = np.zeros(p+1)\n",
    "    c_ = np.zeros(p+1)\n",
    "    alpha_ = np.zeros(p+1)\n",
    "    beta_ = np.zeros(p+1)\n",
    "    gamma_ = np.zeros(p+1)\n",
    "    \n",
    "    theta = (k2-1)/k1\n",
    "    \n",
    "    delta1_[N+1] = 1/tstar\n",
    "    delta2_[N+1] = 1/tstar\n",
    "    \n",
    "    for j in np.arange(N+1,0,-1) : #j=N+1,...,1\n",
    "        tj = tstar*j/(N+1)\n",
    "                    \n",
    "        #values at tj, equations (17 (modified, see 26), 36, 37)\n",
    "        b_[0] = delta2_[j]\n",
    "        \n",
    "        #c_[0] = (delta1_[j]**(k1/(k1+k2-1)))*(delta2_[j]**((k2-1)/(k1+k2-1)))\n",
    "        #a_[0] = c_[0]*(c_[0]/b_[0])**theta\n",
    "        \n",
    "        a_[0] = delta1_[j]\n",
    "        c_[0] = (a_[0]**(k1/(k1+k2-1)))*(b_[0]**((k2-1)/(k1+k2-1)))\n",
    "        \n",
    "        alpha_[0] = a_[0]*c_[0]\n",
    "        beta_[0] = b_[0]*c_[0]\n",
    "        gamma_[0] = a_[0]*b_[0]\n",
    "        \n",
    "        ## updating the Taylors approximations equations (16, 33, 34, 35)\n",
    "        for l in range(p) :\n",
    "            sum_b = np.sum([i*a_[l+1-i]*( b_[i-1]+tj*b_[i]) for i in range(1,l+1)])    \n",
    "            b_[l+1] = -b_[l]/tj + 1/((l+1)*(a_[0]-1)*tj) * ( (1/k2)*b_[l]-sum_b )\n",
    "        \n",
    "            sum_c = np.sum([i*b_[l+1-i]*( c_[i-1]+tj*c_[i]) for i in range(1,l+1)])\n",
    "            c_[l+1] = -c_[l]/tj + 1/((l+1)*(b_[0]-1)*tj) * ( (1/(k1+k2-1))*c_[l]-sum_c )\n",
    "            \n",
    "            A = np.sum([i*c_[i]*gamma_[l+1-i]-a_[i]*beta_[l+1-i] for i in range(1,l+1)]) \n",
    "            B = theta*np.sum([i*c_[i]*gamma_[l+1-i]-b_[i]*alpha_[l+1-i] for i in range(1,l+1)])\n",
    "            a_[l+1] = c_[l+1]*alpha_[0]/beta_[0]+theta*(c_[l+1]*alpha_[0]/beta_[0]-b_[l+1]*alpha_[0]/beta_[0])+1/((l+1)*beta_[0]) * (A+B)\n",
    "            \n",
    "            alpha_[l+1] = np.sum([a_[i]*c_[l+1-i] for i in range(0,l+2)]) \n",
    "            beta_[l+1] = np.sum([b_[i]*c_[l+1-i] for i in range(0,l+2)]) \n",
    "            gamma_[l+1] = np.sum([a_[i]*b_[l+1-i] for i in range(0,l+2)]) \n",
    "        \n",
    "        tjm1 = tstar*(j-1)/(N+1)\n",
    "        \n",
    "        delta1_[j-1] = np.polynomial.polynomial.polyval(tjm1-tj,a_) #updating at tj-1\n",
    "        delta2_[j-1] = np.polynomial.polynomial.polyval(tjm1-tj,b_)\n",
    "        \n",
    "        if(output['breakpoint'] == 0 and ((delta1_[j-1]-l1)**2+(delta2_[j-1]-l2)**2 > ((delta1_[j]-l1)**2+(delta2_[j]-l2)**2))) :\n",
    "            output['breakpoint'] = j\n",
    "            if(correct) :\n",
    "                break\n",
    "    \n",
    "    output['eps_star'] = np.sqrt(((delta1_[output['breakpoint']]-l1)**2+(delta2_[output['breakpoint']]-l2)**2))\n",
    "    #output['precision'] = np.min(((delta1_-l1)**2+(delta2_-l2)**2))\n",
    "    if(correct) :\n",
    "        ind = output['breakpoint']\n",
    "        delta1_[:ind+1] = np.linspace(l1,delta1_[ind],ind+1)\n",
    "        delta2_[:ind+1] = np.linspace(l2,delta2_[ind],ind+1)\n",
    "        \n",
    "        #patch_ = 1/(np.linspace(0,out['tstar'],out['N']+2)[1:])\n",
    "        #delta1_[1:] = np.where(delta1_[1:] > patch_, patch_,delta1_[1:])\n",
    "        #delta2_[1:] = np.where(delta2_[1:] > patch_, patch_,delta2_[1:])\n",
    "        \n",
    "    output['delta1_']=delta1_\n",
    "    output['delta2_']=delta2_\n",
    "    output['values1_']=np.linspace(0,tstar,N+2)*delta1_\n",
    "    output['values2_']=np.linspace(0,tstar,N+2)*delta2_\n",
    "    return output"
   ]
  },
  {
   "cell_type": "code",
   "execution_count": 10,
   "metadata": {},
   "outputs": [],
   "source": [
    "def marshall2_iterative_find_boundary_CUSTOM(k1,k2,eps=10**-5,nb_eval_max=500,N=10_000,p=5,show_msg=False) :\n",
    "    l1 = 1+1/k2\n",
    "    l2 = 1+1/(k1+k2-1)\n",
    "    \n",
    "    a = 1/l1\n",
    "    b = 1/l2\n",
    "    \n",
    "    tau = (np.sqrt(5)-1)/2\n",
    "    \n",
    "    x_1 = a + (1-tau)*(b-a)\n",
    "    f_1 = marshall2_sub_method(x_1,k1,k2,N,p,correct=True)\n",
    "    \n",
    "    x_2 = a + tau*(b-a)\n",
    "    f_2 = marshall2_sub_method(x_2,k1,k2,N,p,correct=True)\n",
    "    \n",
    "    i=2\n",
    "    while(f_1['eps_star']>eps and f_2['eps_star']>eps and i < nb_eval_max) :\n",
    "        if(f_1['eps_star'] > f_2['eps_star']) :\n",
    "            a = x_1\n",
    "            x_1 = x_2\n",
    "            f_1 = f_2\n",
    "            x_2 = a + tau*(b-a)\n",
    "            f_2 = marshall2_sub_method(x_2,k1,k2,N,p,correct=True)\n",
    "        else :\n",
    "            b = x_2\n",
    "            x_2 = x_1\n",
    "            f_2 = f_1\n",
    "            x_1 = a + (1-tau)*(b-a)\n",
    "            f_1 = marshall2_sub_method(x_1,k1,k2,N,p,correct=True)\n",
    "        i+=1\n",
    "    \n",
    "    if(show_msg) :\n",
    "        print(\"Nb of eval :\",i)\n",
    "        print(\"eps_star :\",min(f_1['eps_star'],f_2['eps_star']))\n",
    "        if(i==nb_eval_max) :\n",
    "            print(\"Maximum number of evaluations reached\")\n",
    "            \n",
    "    if(f_1['eps_star']<f_2['eps_star']) :\n",
    "        return f_1\n",
    "    else :\n",
    "        return f_2"
   ]
  },
  {
   "cell_type": "markdown",
   "metadata": {},
   "source": [
    "### Scenarios"
   ]
  },
  {
   "cell_type": "code",
   "execution_count": 11,
   "metadata": {},
   "outputs": [],
   "source": [
    "def scenario1(k,n) :\n",
    "    \"\"\"\n",
    "    The marketplace is bidding second highest report, a countercoallition is playing strategically\n",
    "    \"\"\"\n",
    "    N=10_000\n",
    "    v_ = np.linspace(0,1,N+1)\n",
    "    \n",
    "    RV = stats.beta(a=k-1,b=2)# F^k_(2)\n",
    "    br_ = f_to_array(lambda v:BR_OPTIMIZE_f(v,RV), v_)\n",
    "    \n",
    "    beta_out = lambda v:array_to_f(v,v_,br_)\n",
    "    beta_out_inverse = lambda b:array_to_inverse_f(b,v_,br_)\n",
    "        \n",
    "    integrand_in = lambda v2,v1: (v1-v2)*((beta_out_inverse(v2))**(n-k))*k*(k-1)*1*1*v2**(k-2)\n",
    "    integrand_out = lambda v : (v-beta_out(v))*RV.cdf(beta_out(v))*((n-k)*v**(n-k-1))\n",
    "    integrand_auct = lambda v: v*(beta_out_inverse(v))**(n-k)*RV.pdf(v)+beta_out(v)*RV.cdf(beta_out(v))*(n-k)*(v**(n-k-1))\n",
    "    \n",
    "    output = {}\n",
    "    \n",
    "    # Outer integral : x=v1\n",
    "    # Inner integral : y=v2\n",
    "    output['in'] = integrate.dblquad(integrand_in, 0, 1, lambda x:0, lambda x:x,epsabs=10**-10,epsrel=10**-10)[0]/k\n",
    "    output['out'] = integrate.quad(integrand_out,0,1,limit=1000, epsabs=10**-10,epsrel=10**-10)[0]/(n-k)\n",
    "    output['auct'] = integrate.quad(integrand_auct,0,1,limit=1000, epsabs=10**-10,epsrel=10**-10)[0]\n",
    "    \n",
    "    return output"
   ]
  },
  {
   "cell_type": "code",
   "execution_count": 12,
   "metadata": {},
   "outputs": [],
   "source": [
    "def scenario2(k,n,N=10_000) :\n",
    "    \"\"\"\n",
    "    The marketplace is playing against a coutercoallition, both plays strategically the NE\n",
    "    \"\"\"\n",
    "    \n",
    "    out = marshall1_close_form_boundary(k,n-k,N=N)\n",
    "    b_ = np.linspace(0,out['tstar'],N+2)\n",
    "    \n",
    "    \n",
    "    v_in_f = lambda b:array_to_f(b,b_,out['values1_'])\n",
    "    v_out_f = lambda b:array_to_f(b,b_,out['values2_'])\n",
    "    b_in_f = lambda v:array_to_inverse_f(v,b_,out['values1_'])\n",
    "    b_out_f = lambda v:array_to_inverse_f(v,b_,out['values2_'])\n",
    "    \n",
    "    \n",
    "    integrand_in = lambda v : (v-b_in_f(v))*(v_out_f(b_in_f(v))**(n-k))*k*v**(k-1)\n",
    "    integrand_out = lambda v : (v-b_out_f(v))*((v_in_f(b_out_f(v)))**k)*((n-k)*v**(n-k-1))\n",
    "    integrand_auct = lambda v : b_in_f(v)*((v_out_f(b_in_f(v)))**(n-k))*k*v**(k-1) + b_out_f(v)*((v_in_f(b_out_f(v)))**k)*(n-k)*v**(n-k-1)\n",
    "    \n",
    "    output = {}\n",
    "    \n",
    "    output['in'] = integrate.quad(integrand_in, 0, 1,limit=1000, epsabs=10**-10,epsrel=10**-10)[0]/k\n",
    "    output['out'] = integrate.quad(integrand_out,0,1,limit=1000, epsabs=10**-10,epsrel=10**-10)[0]/(n-k)\n",
    "    output['auct'] = integrate.quad(integrand_auct,0,1,limit=1000, epsabs=10**-10,epsrel=10**-10)[0]\n",
    "    \n",
    "    return output"
   ]
  },
  {
   "cell_type": "code",
   "execution_count": 13,
   "metadata": {},
   "outputs": [],
   "source": [
    "def scenario3(k,n,N=10_000,eps=10**-3) :\n",
    "    \"\"\"\n",
    "    The marketplace is playing against individuals, each player is strategic and plays NE\n",
    "    \"\"\"\n",
    "    \n",
    "    out = marshall2_iterative_find_boundary_CUSTOM(k,n-k,N=N,eps=eps)\n",
    "    b_ = np.linspace(0,out['tstar'],N+2)\n",
    "    \n",
    "    \n",
    "    v_in_f = lambda b:array_to_f(b,b_,out['values1_'])\n",
    "    v_out_f = lambda b:array_to_f(b,b_,out['values2_'])\n",
    "    b_in_f = lambda v:array_to_inverse_f(v,b_,out['values1_'])\n",
    "    b_out_f = lambda v:array_to_inverse_f(v,b_,out['values2_'])\n",
    "    \n",
    "    \n",
    "    integrand_in = lambda v : (v-b_in_f(v))*(v_out_f(b_in_f(v))**(n-k))*k*v**(k-1)\n",
    "    integrand_out = lambda v : (v-b_out_f(v))*(v_in_f(b_out_f(v))**k)*((n-k)*v**(n-k-1))\n",
    "    integrand_auct = lambda v : b_in_f(v)*((v_out_f(b_in_f(v)))**(n-k))*k*v**(k-1) + b_out_f(v)*((v_in_f(b_out_f(v)))**k)*(n-k)*v**(n-k-1)\n",
    "    \n",
    "    output = {}\n",
    "    \n",
    "    output['in'] = integrate.quad(integrand_in, 0, 1, limit=1000, epsabs=10**-10,epsrel=10**-10)[0]/k\n",
    "    output['out'] = integrate.quad(integrand_out,0,1, limit=1000, epsabs=10**-10,epsrel=10**-10)[0]/(n-k)\n",
    "    output['auct'] = integrate.quad(integrand_auct,0,1, limit=1000, epsabs=10**-10,epsrel=10**-10)[0]\n",
    "    \n",
    "    return output"
   ]
  },
  {
   "cell_type": "markdown",
   "metadata": {},
   "source": [
    "## Tests"
   ]
  },
  {
   "cell_type": "code",
   "execution_count": 462,
   "metadata": {
    "scrolled": true
   },
   "outputs": [
    {
     "data": {
      "application/vnd.jupyter.widget-view+json": {
       "model_id": "88865171468a4a46909db06a7525b341",
       "version_major": 2,
       "version_minor": 0
      },
      "text/plain": [
       "HBox(children=(IntProgress(value=0, max=19), HTML(value='')))"
      ]
     },
     "metadata": {},
     "output_type": "display_data"
    },
    {
     "name": "stderr",
     "output_type": "stream",
     "text": [
      "/Users/m.hihat/opt/anaconda3/lib/python3.7/site-packages/ipykernel_launcher.py:23: IntegrationWarning: The occurrence of roundoff error is detected, which prevents \n",
      "  the requested tolerance from being achieved.  The error may be \n",
      "  underestimated.\n",
      "/Users/m.hihat/opt/anaconda3/lib/python3.7/site-packages/ipykernel_launcher.py:24: IntegrationWarning: The occurrence of roundoff error is detected, which prevents \n",
      "  the requested tolerance from being achieved.  The error may be \n",
      "  underestimated.\n",
      "/Users/m.hihat/opt/anaconda3/lib/python3.7/site-packages/ipykernel_launcher.py:22: IntegrationWarning: The occurrence of roundoff error is detected, which prevents \n",
      "  the requested tolerance from being achieved.  The error may be \n",
      "  underestimated.\n"
     ]
    },
    {
     "name": "stdout",
     "output_type": "stream",
     "text": [
      "\n"
     ]
    }
   ],
   "source": [
    "n = 20\n",
    "k_ = np.arange(1,n)\n",
    "\n",
    "#scenarios_[n] = {}\n",
    "\n",
    "for k in tqdm(k_) :   \n",
    "    \n",
    "    scenarios_[n][k] = {1:{}, 2:{}, 3:{}}\n",
    "    \n",
    "    output = scenario1(k,n)\n",
    "    scenarios_[n][k][1]['auct'] = output['auct']\n",
    "    scenarios_[n][k][1]['in'] = output['in']\n",
    "    scenarios_[n][k][1]['out'] = output['out']\n",
    "    \n",
    "    output = scenario2(k,n)\n",
    "    scenarios_[n][k][2]['auct'] = output['auct']\n",
    "    scenarios_[n][k][2]['in'] = output['in']\n",
    "    scenarios_[n][k][2]['out'] = output['out']\n",
    "        \n",
    "    output = scenario3(k,n,eps=10**-6)\n",
    "    scenarios_[n][k][3]['auct'] = output['auct']\n",
    "    scenarios_[n][k][3]['in'] = output['in']\n",
    "    scenarios_[n][k][3]['out'] = output['out']"
   ]
  },
  {
   "cell_type": "code",
   "execution_count": 467,
   "metadata": {},
   "outputs": [],
   "source": [
    "#pickle.dump(scenarios_,open( \"scenarios_.pickle\", \"wb\" ))"
   ]
  },
  {
   "cell_type": "code",
   "execution_count": 14,
   "metadata": {},
   "outputs": [],
   "source": [
    "#scenarios_ = pickle.load(open( \"scenarios_.pickle\", \"rb\" ))"
   ]
  },
  {
   "cell_type": "code",
   "execution_count": 23,
   "metadata": {},
   "outputs": [
    {
     "name": "stdout",
     "output_type": "stream",
     "text": [
      "Coalition vs Individuals, n = 20\n",
      "k 1 | in 0.002381 | out 0.002379 | 1/(k+1) 0.500\n",
      "k 2 | in 0.002385 | out 0.002392 | 1/(k+1) 0.333\n",
      "k 3 | in 0.002397 | out 0.002420 | 1/(k+1) 0.250\n",
      "k 4 | in 0.002420 | out 0.002466 | 1/(k+1) 0.200\n",
      "k 5 | in 0.002453 | out 0.002532 | 1/(k+1) 0.167\n",
      "k 6 | in 0.002499 | out 0.002622 | 1/(k+1) 0.143\n",
      "k 7 | in 0.002561 | out 0.002741 | 1/(k+1) 0.125\n",
      "k 8 | in 0.002641 | out 0.002897 | 1/(k+1) 0.111\n",
      "k 9 | in 0.002743 | out 0.003099 | 1/(k+1) 0.100\n",
      "k 10 | in 0.002873 | out 0.003362 | 1/(k+1) 0.091\n",
      "k 11 | in 0.003038 | out 0.003709 | 1/(k+1) 0.083\n",
      "k 12 | in 0.003248 | out 0.004173 | 1/(k+1) 0.077\n",
      "k 13 | in 0.003522 | out 0.004812 | 1/(k+1) 0.071\n",
      "k 14 | in 0.003886 | out 0.005725 | 1/(k+1) 0.067\n",
      "k 15 | in 0.004386 | out 0.007099 | 1/(k+1) 0.062\n",
      "k 16 | in 0.005110 | out 0.009334 | 1/(k+1) 0.059\n",
      "k 17 | in 0.006238 | out 0.013416 | 1/(k+1) 0.056\n",
      "k 18 | in 0.008237 | out 0.022508 | 1/(k+1) 0.053\n",
      "k 19 | in 0.012815 | out 0.053897 | 1/(k+1) 0.050\n"
     ]
    }
   ],
   "source": [
    "n = 20; k_ = np.arange(1,n)\n",
    "\n",
    "print(\"Coalition vs Individuals, n =\", n)\n",
    "for k in k_ :\n",
    "    print(\"k {} | in {:.6f} | out {:.6f} | 1/(k+1) {:.3f}\".format(k,scenarios_[n][k][3]['in'],scenarios_[n][k][3]['out'],1/(k+1)))"
   ]
  },
  {
   "cell_type": "code",
   "execution_count": 25,
   "metadata": {},
   "outputs": [
    {
     "data": {
      "image/png": "[encoded data removed]",
      "text/plain": [
       "<Figure size 1080x720 with 1 Axes>"
      ]
     },
     "metadata": {
      "needs_background": "light"
     },
     "output_type": "display_data"
    }
   ],
   "source": [
    "n=20; k_ = np.arange(1,n)\n",
    "plt.figure(figsize=(15,10))\n",
    "plt.xlabel(\"k\")\n",
    "\n",
    "plt.semilogy(k_,0*k_+1/(n*(n+1)),'-',color='gray',label=\"0 : No marketplace (NE) [in/out]\")\n",
    "\n",
    "plt.semilogy(k_,1/(k_+1),'-',color='orange')\n",
    "\n",
    "#plt.semilogy(k_,[scenarios_[n][k][1]['in'] for k in k_],'-o',color='red',label=r\"1 : $r_{(2)}$ marketplace vs countercoallition [in]\")\n",
    "#plt.semilogy(k_,[scenarios_[n][k][2]['in'] for k in k_],'-o',color='blue',label=r\"2 : marketplace vs countercoallition (NE) [in]\")\n",
    "plt.semilogy(k_,[scenarios_[n][k][3]['in'] for k in k_],'-o',color='green',label=r\"3 : marketplace vs individuals (NE) [in]\")\n",
    "\n",
    "#plt.semilogy(k_,[scenarios_[n][k][1]['out'] for k in k_],'-^',color='red',label=r\"1 : $r_{(2)}$ marketplace vs countercoallition [out]\")\n",
    "#plt.semilogy(k_,[scenarios_[n][k][2]['out'] for k in k_],'-^',color='blue',label=r\"2 : marketplace vs countercoallition (NE) [out]\")\n",
    "plt.semilogy(k_,[scenarios_[n][k][3]['out'] for k in k_],'-^',color='green',label=r\"3 : marketplace vs individuals (NE) [out]\")\n",
    "\n",
    "\n",
    "#plt.semilogy(k_,0*k_+(n-1)/(n+1),'-',color='gray',label=\"0 : No marketplace (NE) [auct]\")\n",
    "\n",
    "#plt.semilogy(k_,[scenarios_[n][k][1]['auct'] for k in k_],'-+',color='red',label=r\"1 : $r_{(2)}$ marketplace vs countercoallition [auct]\")\n",
    "#plt.semilogy(k_,[scenarios_[n][k][2]['auct'] for k in k_],'-+',color='blue',label=r\"2 : marketplace vs countercoallition (NE) [auct]\")\n",
    "#plt.semilogy(k_,[scenarios_[n][k][3]['auct'] for k in k_],'-+',color='green',label=r\"3 : marketplace vs individuals (NE) [auct]\")\n",
    "\n",
    "plt.legend()\n",
    "plt.show()"
   ]
  },
  {
   "cell_type": "markdown",
   "metadata": {},
   "source": [
    "### Garbage"
   ]
  },
  {
   "cell_type": "code",
   "execution_count": 363,
   "metadata": {
    "scrolled": true
   },
   "outputs": [
    {
     "ename": "KeyboardInterrupt",
     "evalue": "",
     "output_type": "error",
     "traceback": [
      "\u001b[0;31m---------------------------------------------------------------------------\u001b[0m",
      "\u001b[0;31mKeyboardInterrupt\u001b[0m                         Traceback (most recent call last)",
      "\u001b[0;32m<ipython-input-363-86a7674aec44>\u001b[0m in \u001b[0;36m<module>\u001b[0;34m\u001b[0m\n\u001b[1;32m      1\u001b[0m \u001b[0mn\u001b[0m\u001b[0;34m=\u001b[0m\u001b[0;36m4\u001b[0m\u001b[0;34m;\u001b[0m \u001b[0mk\u001b[0m\u001b[0;34m=\u001b[0m\u001b[0;36m3\u001b[0m\u001b[0;34m;\u001b[0m \u001b[0mk1\u001b[0m \u001b[0;34m=\u001b[0m \u001b[0mk\u001b[0m\u001b[0;34m;\u001b[0m \u001b[0mk2\u001b[0m\u001b[0;34m=\u001b[0m\u001b[0mn\u001b[0m\u001b[0;34m-\u001b[0m\u001b[0mk\u001b[0m\u001b[0;34m;\u001b[0m\u001b[0;34m\u001b[0m\u001b[0;34m\u001b[0m\u001b[0m\n\u001b[1;32m      2\u001b[0m \u001b[0;34m\u001b[0m\u001b[0m\n\u001b[0;32m----> 3\u001b[0;31m \u001b[0mout\u001b[0m \u001b[0;34m=\u001b[0m \u001b[0mmarshall2_iterative_find_boundary_CUSTOM\u001b[0m\u001b[0;34m(\u001b[0m\u001b[0mk1\u001b[0m\u001b[0;34m,\u001b[0m\u001b[0mk2\u001b[0m\u001b[0;34m,\u001b[0m\u001b[0mN\u001b[0m\u001b[0;34m=\u001b[0m\u001b[0;36m10_000\u001b[0m\u001b[0;34m,\u001b[0m\u001b[0meps\u001b[0m\u001b[0;34m=\u001b[0m\u001b[0;36m10\u001b[0m\u001b[0;34m**\u001b[0m\u001b[0;34m-\u001b[0m\u001b[0;36m3\u001b[0m\u001b[0;34m)\u001b[0m\u001b[0;34m\u001b[0m\u001b[0;34m\u001b[0m\u001b[0m\n\u001b[0m\u001b[1;32m      4\u001b[0m \u001b[0mdisplay2\u001b[0m\u001b[0;34m(\u001b[0m\u001b[0mout\u001b[0m\u001b[0;34m)\u001b[0m\u001b[0;34m\u001b[0m\u001b[0;34m\u001b[0m\u001b[0m\n\u001b[1;32m      5\u001b[0m \u001b[0;34m\u001b[0m\u001b[0m\n",
      "\u001b[0;32m<ipython-input-9-67c31d61aa0b>\u001b[0m in \u001b[0;36mmarshall2_iterative_find_boundary_CUSTOM\u001b[0;34m(k1, k2, eps, nb_eval_max, N, p, show_msg)\u001b[0m\n\u001b[1;32m     21\u001b[0m             \u001b[0mf_1\u001b[0m \u001b[0;34m=\u001b[0m \u001b[0mf_2\u001b[0m\u001b[0;34m\u001b[0m\u001b[0;34m\u001b[0m\u001b[0m\n\u001b[1;32m     22\u001b[0m             \u001b[0mx_2\u001b[0m \u001b[0;34m=\u001b[0m \u001b[0ma\u001b[0m \u001b[0;34m+\u001b[0m \u001b[0mtau\u001b[0m\u001b[0;34m*\u001b[0m\u001b[0;34m(\u001b[0m\u001b[0mb\u001b[0m\u001b[0;34m-\u001b[0m\u001b[0ma\u001b[0m\u001b[0;34m)\u001b[0m\u001b[0;34m\u001b[0m\u001b[0;34m\u001b[0m\u001b[0m\n\u001b[0;32m---> 23\u001b[0;31m             \u001b[0mf_2\u001b[0m \u001b[0;34m=\u001b[0m \u001b[0mmarshall2_sub_method\u001b[0m\u001b[0;34m(\u001b[0m\u001b[0mx_2\u001b[0m\u001b[0;34m,\u001b[0m\u001b[0mk1\u001b[0m\u001b[0;34m,\u001b[0m\u001b[0mk2\u001b[0m\u001b[0;34m,\u001b[0m\u001b[0mN\u001b[0m\u001b[0;34m,\u001b[0m\u001b[0mp\u001b[0m\u001b[0;34m,\u001b[0m\u001b[0mcorrect\u001b[0m\u001b[0;34m=\u001b[0m\u001b[0;32mTrue\u001b[0m\u001b[0;34m)\u001b[0m\u001b[0;34m\u001b[0m\u001b[0;34m\u001b[0m\u001b[0m\n\u001b[0m\u001b[1;32m     24\u001b[0m         \u001b[0;32melse\u001b[0m \u001b[0;34m:\u001b[0m\u001b[0;34m\u001b[0m\u001b[0;34m\u001b[0m\u001b[0m\n\u001b[1;32m     25\u001b[0m             \u001b[0mb\u001b[0m \u001b[0;34m=\u001b[0m \u001b[0mx_2\u001b[0m\u001b[0;34m\u001b[0m\u001b[0;34m\u001b[0m\u001b[0m\n",
      "\u001b[0;32m<ipython-input-106-e61621874002>\u001b[0m in \u001b[0;36mmarshall2_sub_method\u001b[0;34m(tstar, k1, k2, N, p, correct)\u001b[0m\n\u001b[1;32m     45\u001b[0m         \u001b[0;31m## updating the Taylors approximations equations (16, 33, 34, 35)\u001b[0m\u001b[0;34m\u001b[0m\u001b[0;34m\u001b[0m\u001b[0;34m\u001b[0m\u001b[0m\n\u001b[1;32m     46\u001b[0m         \u001b[0;32mfor\u001b[0m \u001b[0ml\u001b[0m \u001b[0;32min\u001b[0m \u001b[0mrange\u001b[0m\u001b[0;34m(\u001b[0m\u001b[0mp\u001b[0m\u001b[0;34m)\u001b[0m \u001b[0;34m:\u001b[0m\u001b[0;34m\u001b[0m\u001b[0;34m\u001b[0m\u001b[0m\n\u001b[0;32m---> 47\u001b[0;31m             \u001b[0msum_b\u001b[0m \u001b[0;34m=\u001b[0m \u001b[0mnp\u001b[0m\u001b[0;34m.\u001b[0m\u001b[0msum\u001b[0m\u001b[0;34m(\u001b[0m\u001b[0;34m[\u001b[0m\u001b[0mi\u001b[0m\u001b[0;34m*\u001b[0m\u001b[0ma_\u001b[0m\u001b[0;34m[\u001b[0m\u001b[0ml\u001b[0m\u001b[0;34m+\u001b[0m\u001b[0;36m1\u001b[0m\u001b[0;34m-\u001b[0m\u001b[0mi\u001b[0m\u001b[0;34m]\u001b[0m\u001b[0;34m*\u001b[0m\u001b[0;34m(\u001b[0m \u001b[0mb_\u001b[0m\u001b[0;34m[\u001b[0m\u001b[0mi\u001b[0m\u001b[0;34m-\u001b[0m\u001b[0;36m1\u001b[0m\u001b[0;34m]\u001b[0m\u001b[0;34m+\u001b[0m\u001b[0mtj\u001b[0m\u001b[0;34m*\u001b[0m\u001b[0mb_\u001b[0m\u001b[0;34m[\u001b[0m\u001b[0mi\u001b[0m\u001b[0;34m]\u001b[0m\u001b[0;34m)\u001b[0m \u001b[0;32mfor\u001b[0m \u001b[0mi\u001b[0m \u001b[0;32min\u001b[0m \u001b[0mrange\u001b[0m\u001b[0;34m(\u001b[0m\u001b[0;36m1\u001b[0m\u001b[0;34m,\u001b[0m\u001b[0ml\u001b[0m\u001b[0;34m+\u001b[0m\u001b[0;36m1\u001b[0m\u001b[0;34m)\u001b[0m\u001b[0;34m]\u001b[0m\u001b[0;34m)\u001b[0m\u001b[0;34m\u001b[0m\u001b[0;34m\u001b[0m\u001b[0m\n\u001b[0m\u001b[1;32m     48\u001b[0m             \u001b[0mb_\u001b[0m\u001b[0;34m[\u001b[0m\u001b[0ml\u001b[0m\u001b[0;34m+\u001b[0m\u001b[0;36m1\u001b[0m\u001b[0;34m]\u001b[0m \u001b[0;34m=\u001b[0m \u001b[0;34m-\u001b[0m\u001b[0mb_\u001b[0m\u001b[0;34m[\u001b[0m\u001b[0ml\u001b[0m\u001b[0;34m]\u001b[0m\u001b[0;34m/\u001b[0m\u001b[0mtj\u001b[0m \u001b[0;34m+\u001b[0m \u001b[0;36m1\u001b[0m\u001b[0;34m/\u001b[0m\u001b[0;34m(\u001b[0m\u001b[0;34m(\u001b[0m\u001b[0ml\u001b[0m\u001b[0;34m+\u001b[0m\u001b[0;36m1\u001b[0m\u001b[0;34m)\u001b[0m\u001b[0;34m*\u001b[0m\u001b[0;34m(\u001b[0m\u001b[0ma_\u001b[0m\u001b[0;34m[\u001b[0m\u001b[0;36m0\u001b[0m\u001b[0;34m]\u001b[0m\u001b[0;34m-\u001b[0m\u001b[0;36m1\u001b[0m\u001b[0;34m)\u001b[0m\u001b[0;34m*\u001b[0m\u001b[0mtj\u001b[0m\u001b[0;34m)\u001b[0m \u001b[0;34m*\u001b[0m \u001b[0;34m(\u001b[0m \u001b[0;34m(\u001b[0m\u001b[0;36m1\u001b[0m\u001b[0;34m/\u001b[0m\u001b[0mk2\u001b[0m\u001b[0;34m)\u001b[0m\u001b[0;34m*\u001b[0m\u001b[0mb_\u001b[0m\u001b[0;34m[\u001b[0m\u001b[0ml\u001b[0m\u001b[0;34m]\u001b[0m\u001b[0;34m-\u001b[0m\u001b[0msum_b\u001b[0m \u001b[0;34m)\u001b[0m\u001b[0;34m\u001b[0m\u001b[0;34m\u001b[0m\u001b[0m\n\u001b[1;32m     49\u001b[0m \u001b[0;34m\u001b[0m\u001b[0m\n",
      "\u001b[0;32m<ipython-input-106-e61621874002>\u001b[0m in \u001b[0;36m<listcomp>\u001b[0;34m(.0)\u001b[0m\n\u001b[1;32m     45\u001b[0m         \u001b[0;31m## updating the Taylors approximations equations (16, 33, 34, 35)\u001b[0m\u001b[0;34m\u001b[0m\u001b[0;34m\u001b[0m\u001b[0;34m\u001b[0m\u001b[0m\n\u001b[1;32m     46\u001b[0m         \u001b[0;32mfor\u001b[0m \u001b[0ml\u001b[0m \u001b[0;32min\u001b[0m \u001b[0mrange\u001b[0m\u001b[0;34m(\u001b[0m\u001b[0mp\u001b[0m\u001b[0;34m)\u001b[0m \u001b[0;34m:\u001b[0m\u001b[0;34m\u001b[0m\u001b[0;34m\u001b[0m\u001b[0m\n\u001b[0;32m---> 47\u001b[0;31m             \u001b[0msum_b\u001b[0m \u001b[0;34m=\u001b[0m \u001b[0mnp\u001b[0m\u001b[0;34m.\u001b[0m\u001b[0msum\u001b[0m\u001b[0;34m(\u001b[0m\u001b[0;34m[\u001b[0m\u001b[0mi\u001b[0m\u001b[0;34m*\u001b[0m\u001b[0ma_\u001b[0m\u001b[0;34m[\u001b[0m\u001b[0ml\u001b[0m\u001b[0;34m+\u001b[0m\u001b[0;36m1\u001b[0m\u001b[0;34m-\u001b[0m\u001b[0mi\u001b[0m\u001b[0;34m]\u001b[0m\u001b[0;34m*\u001b[0m\u001b[0;34m(\u001b[0m \u001b[0mb_\u001b[0m\u001b[0;34m[\u001b[0m\u001b[0mi\u001b[0m\u001b[0;34m-\u001b[0m\u001b[0;36m1\u001b[0m\u001b[0;34m]\u001b[0m\u001b[0;34m+\u001b[0m\u001b[0mtj\u001b[0m\u001b[0;34m*\u001b[0m\u001b[0mb_\u001b[0m\u001b[0;34m[\u001b[0m\u001b[0mi\u001b[0m\u001b[0;34m]\u001b[0m\u001b[0;34m)\u001b[0m \u001b[0;32mfor\u001b[0m \u001b[0mi\u001b[0m \u001b[0;32min\u001b[0m \u001b[0mrange\u001b[0m\u001b[0;34m(\u001b[0m\u001b[0;36m1\u001b[0m\u001b[0;34m,\u001b[0m\u001b[0ml\u001b[0m\u001b[0;34m+\u001b[0m\u001b[0;36m1\u001b[0m\u001b[0;34m)\u001b[0m\u001b[0;34m]\u001b[0m\u001b[0;34m)\u001b[0m\u001b[0;34m\u001b[0m\u001b[0;34m\u001b[0m\u001b[0m\n\u001b[0m\u001b[1;32m     48\u001b[0m             \u001b[0mb_\u001b[0m\u001b[0;34m[\u001b[0m\u001b[0ml\u001b[0m\u001b[0;34m+\u001b[0m\u001b[0;36m1\u001b[0m\u001b[0;34m]\u001b[0m \u001b[0;34m=\u001b[0m \u001b[0;34m-\u001b[0m\u001b[0mb_\u001b[0m\u001b[0;34m[\u001b[0m\u001b[0ml\u001b[0m\u001b[0;34m]\u001b[0m\u001b[0;34m/\u001b[0m\u001b[0mtj\u001b[0m \u001b[0;34m+\u001b[0m \u001b[0;36m1\u001b[0m\u001b[0;34m/\u001b[0m\u001b[0;34m(\u001b[0m\u001b[0;34m(\u001b[0m\u001b[0ml\u001b[0m\u001b[0;34m+\u001b[0m\u001b[0;36m1\u001b[0m\u001b[0;34m)\u001b[0m\u001b[0;34m*\u001b[0m\u001b[0;34m(\u001b[0m\u001b[0ma_\u001b[0m\u001b[0;34m[\u001b[0m\u001b[0;36m0\u001b[0m\u001b[0;34m]\u001b[0m\u001b[0;34m-\u001b[0m\u001b[0;36m1\u001b[0m\u001b[0;34m)\u001b[0m\u001b[0;34m*\u001b[0m\u001b[0mtj\u001b[0m\u001b[0;34m)\u001b[0m \u001b[0;34m*\u001b[0m \u001b[0;34m(\u001b[0m \u001b[0;34m(\u001b[0m\u001b[0;36m1\u001b[0m\u001b[0;34m/\u001b[0m\u001b[0mk2\u001b[0m\u001b[0;34m)\u001b[0m\u001b[0;34m*\u001b[0m\u001b[0mb_\u001b[0m\u001b[0;34m[\u001b[0m\u001b[0ml\u001b[0m\u001b[0;34m]\u001b[0m\u001b[0;34m-\u001b[0m\u001b[0msum_b\u001b[0m \u001b[0;34m)\u001b[0m\u001b[0;34m\u001b[0m\u001b[0;34m\u001b[0m\u001b[0m\n\u001b[1;32m     49\u001b[0m \u001b[0;34m\u001b[0m\u001b[0m\n",
      "\u001b[0;31mKeyboardInterrupt\u001b[0m: "
     ]
    }
   ],
   "source": [
    "n=4; k=3; k1 = k; k2=n-k;\n",
    "\n",
    "out = marshall2_iterative_find_boundary_CUSTOM(k1,k2,N=10_000,eps=10**-3)\n",
    "display2(out)\n",
    "\n",
    "dx = 10**-3\n",
    "b_ = np.linspace(0,out['tstar'],out['N']+2)\n",
    "\n",
    "delta1_f = lambda b:array_to_f(b,b_,out['delta1_'])\n",
    "delta2_f = lambda b:array_to_f(b,b_,out['delta2_'])\n",
    "lambda1_f = lambda b:array_to_f(b,b_,out['values1_'])\n",
    "lambda2_f = lambda b:array_to_f(b,b_,out['values2_'])\n",
    "\n",
    "b_ok = np.linspace(dx,out['tstar']-dx,1001)\n",
    "\n",
    "delta1_fprime = lambda b:misc.derivative(delta1_f,b,dx=dx)\n",
    "delta2_fprime = lambda b:misc.derivative(delta2_f,b,dx=dx)\n",
    "\n",
    "equation_10 = lambda t: np.abs(k2*(delta1_f(t)-1)*(delta2_f(t)+t*delta2_fprime(t))-delta2_f(t))\n",
    "\n",
    "lambda1_fprime = lambda b:misc.derivative(lambda1_f,b,dx=dx)\n",
    "lambda2_fprime = lambda b:misc.derivative(lambda2_f,b,dx=dx)\n",
    "\n",
    "equation_2 = lambda t: np.abs(k2*(lambda1_f(t)-t)*lambda2_fprime(t)-lambda2_f(t))\n",
    "\n",
    "plt.figure(figsize=(20,10))\n",
    "plt.semilogy(b_ok,[equation_10(b) for b in b_ok],'r')\n",
    "plt.semilogy(b_ok,[equation_2(b) for b in b_ok],'b')\n",
    "plt.axhline(10**-2,color='k')\n",
    "plt.axhline(10**-3,color='k')\n",
    "plt.show()\n",
    "\n",
    "plt.figure(figsize=(20,10))\n",
    "plt.plot(b_ok,[delta1_f(b) for b in b_ok],'k',linewidth=1)\n",
    "for b in np.linspace(0.05,0.6,20) :\n",
    "    plt.plot(b+np.linspace(-10**-2,10**-2,3),delta1_f(b)+np.linspace(-10**-2,10**-2,3)*delta1_fprime(b),'-x',linewidth=3)\n",
    "plt.xlim((0.4,0.6))\n",
    "plt.show()"
   ]
  }
 ],
 "metadata": {
  "kernelspec": {
   "display_name": "Python 3",
   "language": "python",
   "name": "python3"
  },
  "language_info": {
   "codemirror_mode": {
    "name": "ipython",
    "version": 3
   },
   "file_extension": ".py",
   "mimetype": "text/x-python",
   "name": "python",
   "nbconvert_exporter": "python",
   "pygments_lexer": "ipython3",
   "version": "3.7.3"
  }
 },
 "nbformat": 4,
 "nbformat_minor": 2
}
