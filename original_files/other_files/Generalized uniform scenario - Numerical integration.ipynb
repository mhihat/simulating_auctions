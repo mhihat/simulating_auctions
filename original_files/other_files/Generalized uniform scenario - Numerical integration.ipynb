{
 "cells": [
  {
   "cell_type": "markdown",
   "metadata": {},
   "source": [
    "# <center>Generalized uniform scenario - Numerical integration</center>"
   ]
  },
  {
   "cell_type": "markdown",
   "metadata": {},
   "source": [
    "In this notebook we use the methods developped in the notebook \"Generalized uniform scenario - Methods\"\n",
    "in a specific framework to compute expected utilities using numerical integration."
   ]
  },
  {
   "cell_type": "markdown",
   "metadata": {},
   "source": [
    "## <center>Framework</center>"
   ]
  },
  {
   "cell_type": "markdown",
   "metadata": {},
   "source": [
    "We consider two types of agents : \n",
    "- **Strong agent** : its value is drawn according to Beta$(\\alpha,1)$, its average value is $\\frac{\\alpha}{\\alpha+1}$\n",
    "- **Weak agent** : its value is drawn according to Unif$[0,1]$, its average value is $\\frac{1}{2}$"
   ]
  },
  {
   "cell_type": "markdown",
   "metadata": {},
   "source": [
    "There are $k_s$ strong agents and $k_w$ weak agents and we are comparing the following scenarios :\n",
    "\n",
    "1. $1+k_w$ bidders participates at a first price auction where : \n",
    "    - The first bidder is a coalition of  $k_s$ strong agents\n",
    "    - The $k_w$ other bidders are weak agents acting individually\n",
    "    \n",
    "    \n",
    "2. $1+1+k_w$  bidders participates at a first price auction where :\n",
    "    - The first bidder is a coalition of  $k_s-1$ strong agents\n",
    "    - The second bidder is a strong agent.\n",
    "    - The $k_w$ other bidders are  weak agents action individually.\n",
    "    \n",
    "The second scenario represents a defection of a strong individual from the coalition of the first scenario. The goal of these expriments is to know whether this defection is profitable or not. To this end, for both scenarios, we compute the expected utility of each agent using the numerical integration toolbook : `scipy.integrate`\n"
   ]
  },
  {
   "cell_type": "markdown",
   "metadata": {},
   "source": [
    "## <center>Maths?</center>"
   ]
  },
  {
   "cell_type": "markdown",
   "metadata": {},
   "source": [
    "## <center>Python code</center>"
   ]
  },
  {
   "cell_type": "markdown",
   "metadata": {},
   "source": [
    "### Imports, display and stuff"
   ]
  },
  {
   "cell_type": "code",
   "execution_count": 1,
   "metadata": {},
   "outputs": [],
   "source": [
    "import numpy as np\n",
    "import matplotlib.pyplot as plt\n",
    "import seaborn as sns\n",
    "import pickle\n",
    "\n",
    "from matplotlib.colors import SymLogNorm\n",
    "\n",
    "from scipy import integrate\n",
    "\n",
    "from tqdm import tqdm_notebook as tqdm \n",
    "import time"
   ]
  },
  {
   "cell_type": "code",
   "execution_count": 3,
   "metadata": {},
   "outputs": [],
   "source": [
    "def array_to_f(x,x_,y_) :\n",
    "    return y_[min(np.searchsorted(x_,x),len(x_)-1)]\n",
    "\n",
    "def array_to_inverse_f(y,x_,y_) :\n",
    "    return x_[min(np.searchsorted(y_,y),len(y_)-1)]\n",
    "\n",
    "def f_to_array(f,x_,) :\n",
    "    return np.array([f(x) for x in x_])"
   ]
  },
  {
   "cell_type": "code",
   "execution_count": 4,
   "metadata": {},
   "outputs": [],
   "source": [
    "def bid1_f(v,method_out) :\n",
    "    return method_out['tstar']*np.searchsorted(method_out['values1_'],v)/(method_out['N']+1)\n",
    "\n",
    "def bid2_f(v,method_out) :\n",
    "    return method_out['tstar']*np.searchsorted(method_out['values2_'],v)/(method_out['N']+1)\n",
    "\n",
    "def bid3_f(v,method_out) :\n",
    "    return method_out['tstar']*np.searchsorted(method_out['values3_'],v)/(method_out['N']+1)"
   ]
  },
  {
   "cell_type": "code",
   "execution_count": 6,
   "metadata": {},
   "outputs": [],
   "source": [
    "def displayGU(out) :\n",
    "    plt.figure(figsize=(15,4.5))\n",
    "    plt.suptitle(r\"Coalition $k_1={}$ vs Coalition $k_2={}$ vs Individuals $k_3={}$\".format(out['k1'],out['k2'],out['k3']))\n",
    "    \n",
    "    plt.subplot(131)\n",
    "    v_ = np.linspace(0,1,1001)\n",
    "    \n",
    "    if(out['k1']!=0): \n",
    "        plt.plot(np.linspace(0,out['tstar'],out['N']+2),out['delta1_'],'b',label=r'$\\delta_1$')\n",
    "        plt.axhline(out['l1'],color='b',linestyle='--')\n",
    "    if(out['k2']!=0): \n",
    "        plt.plot(np.linspace(0,out['tstar'],out['N']+2),out['delta2_'],'r',label=r'$\\delta_2$')\n",
    "        plt.axhline(out['l2'],color='r',linestyle='--')\n",
    "    if(out['k3']!=0): \n",
    "        plt.plot(np.linspace(0,out['tstar'],out['N']+2),out['delta3_'],'g',label=r'$\\delta_3$')\n",
    "        plt.axhline(out['l3'],color='g',linestyle='--')\n",
    "        \n",
    "    plt.axhline(1/out['tstar'],color='gray',linestyle='--')\n",
    "    plt.axvline(out['tstar']*out['breakpoint']/(out['N']+1),color='k',linewidth=2)\n",
    "    #plt.ylim((min(out['l2_star'],out['l1_star'])-0.1,max(out['l2_star'],out['l1_star'])+0.1))\n",
    "    plt.title(r\"Approximated functions : $\\delta_i(t) = \\lambda_i(t)/t$\")\n",
    "    plt.legend()\n",
    "    \n",
    "    \n",
    "    plt.subplot(132)\n",
    "    b_ = np.linspace(0,out['tstar'],out['N']+2)\n",
    "    \n",
    "    if(out['k1']!=0): \n",
    "        plt.plot(b_,out['values1_'],'b',label=r'$\\lambda_1$')\n",
    "        plt.plot(b_,out['l1']*b_,'b--')\n",
    "    if(out['k2']!=0): \n",
    "        plt.plot(b_,out['values2_'],'r',label=r'$\\lambda_2$')\n",
    "        plt.plot(b_,out['l2']*b_,'r--')\n",
    "    if(out['k3']!=0):\n",
    "        plt.plot(b_,out['values3_'],'g',label=r'$\\lambda_3$')\n",
    "        plt.plot(b_,out['l3']*b_,'g--')\n",
    "    \n",
    "    plt.axvline(out['tstar']*out['breakpoint']/(out['N']+1),color='k',linewidth=2)\n",
    "    plt.title(r\"Value functions $\\lambda_i$\")\n",
    "    plt.legend()\n",
    "    plt.xlim((0,out['tstar']))\n",
    "    plt.grid(True, which='both')\n",
    "    \n",
    "    \n",
    "    plt.subplot(133)\n",
    "    if(out['k1']!=0): \n",
    "        plt.plot(v_,[bid1_f(v,out) for v in v_],'b',label=r\"$\\phi_1$\")\n",
    "        plt.plot(v_,1/out['l1']*v_,'b--')\n",
    "    if(out['k2']!=0) :\n",
    "        plt.plot(v_,[bid2_f(v,out) for v in v_],'r',label=r\"$\\phi_2$\")\n",
    "        plt.plot(v_,1/out['l2']*v_,'r--')\n",
    "    if(out['k3']!=0):\n",
    "        plt.plot(v_,1/out['l3']*v_,'g--')\n",
    "        plt.plot(v_,[bid3_f(v,out) for v in v_],'g',label=r\"$\\phi_3$\")\n",
    "        \n",
    "    plt.axhline(out['tstar'],color='gray',linestyle='--')\n",
    "    plt.axhline(out['tstar']*out['breakpoint']/(out['N']+1),color='k',linewidth=2)\n",
    "    plt.title(r\"Bid functions $\\phi_i$\")\n",
    "    plt.legend()\n",
    "    plt.xlim((0,1))\n",
    "    plt.ylim((0,1))\n",
    "    plt.grid(True, which='both')\n",
    "    \n",
    "    plt.show()"
   ]
  },
  {
   "cell_type": "markdown",
   "metadata": {},
   "source": [
    "### Main methods"
   ]
  },
  {
   "cell_type": "code",
   "execution_count": 7,
   "metadata": {},
   "outputs": [],
   "source": [
    "def shootGU(tstar,k1,k2,k3,N=10_000,correct=True) :\n",
    "    delta1_ = np.zeros(N+2)\n",
    "    delta2_ = np.zeros(N+2)\n",
    "    delta3_ = np.zeros(N+2)\n",
    "    \n",
    "    l1 = (1+1/(k2+k3))*(k1!=0)\n",
    "    l2 = (1+1/(k1+k3))*(k2!=0)\n",
    "    l3 = (1+1/(k1+k2+k3-1))*(k3!=0)\n",
    "    \n",
    "    output = {}\n",
    "    output['tstar'] = tstar\n",
    "    output['N']=N\n",
    "    output['breakpoint'] = 0\n",
    "    output['l1'] = l1;    output['l2'] = l2;    output['l3'] = l3;\n",
    "    output['k1'] = k1;    output['k2'] = k2;    output['k3'] = k3;\n",
    "    \n",
    "    eps_f = lambda i : np.sqrt((delta1_[i]-l1)**2+(delta2_[i]-l2)**2+(delta3_[i]-l3)**2)\n",
    "    \n",
    "    delta1_[N+1] = 1/tstar*(k1!=0)\n",
    "    delta2_[N+1] = 1/tstar*(k2!=0)\n",
    "    delta3_[N+1] = 1/tstar*(k3!=0)\n",
    "    \n",
    "    d1 = 0; d2 = 0; d3 = 0;\n",
    "    d1p = 0; d2p = 0;  d3p = 0;\n",
    "    \n",
    "    for j in np.arange(N+1,0,-1) : #j=N+1,...,1\n",
    "        tj = tstar*j/(N+1)\n",
    "        tjm1 = tstar*(j-1)/(N+1)\n",
    "\n",
    "        d1 = delta1_[j]\n",
    "        d2 = delta2_[j]\n",
    "        d3 = delta3_[j]\n",
    "        \n",
    "        #A = np.array([[0,k2*d3,k3*d2],\n",
    "        #      [k1*d3,0,k3*d1],\n",
    "        #      [k1*d2*d3,k2*d1*d3,(k3-1)*d1*d2]])\n",
    "        #y = np.array([d2*d3/tj*( 1/(d1-1)-k2-k3 ),\n",
    "        #              d1*d3/tj*( 1/(d2-1)-k1-k3 ),\n",
    "        #              d1*d2*d3/tj*( 1/(d3-1) -k1-k2-k3+1) ])\n",
    "        #x = np.linalg.solve(A,y)\n",
    "        #d1p = x[0]; d2p = x[1]; d3p = x[2]\n",
    "\n",
    "        #A = np.array([[0 , tj*(d1-1)*k2*d3 , tj*(d1-1)*k3*d2],\n",
    "        #          [tj*(d2-1)*k1*d3 , 0 , tj*(d2-1)*k3*d1] ,\n",
    "        #          [tj*(d3-1)*k1*d2*d3 , tj*(d3-1)*k2*d1*d3 , tj*(d3-1)*(k3-1)*d1*d2]])\n",
    "        #y = np.array([d2*d3*( 1-(d1-1)*(k2+k3) ), d1*d3*( 1-(d2-1)*(k1+k3) ), d1*d2*d3*( 1-(d3-1)*(k1+k2+k3-1) )])\n",
    "        #x = np.linalg.solve(A,y)\n",
    "        #d1p = x[0]; d2p = x[1]; d3p = x[2]\n",
    "        \n",
    "        if(k1 != 0 and k2 != 0) :\n",
    "            d1p = d1/(tj*k1) * ( (1-k3/(k3+1))/(d2-1) - k3/((k3+1)*(d1-1)) +k3/((k3+1)*(d3-1)) -k1 )\n",
    "            d2p = d2/(tj*k2) * ( (1-k3/(k3+1))/(d1-1) - k3/((k3+1)*(d2-1)) +k3/((k3+1)*(d3-1)) -k2 )\n",
    "            d3p = d3/(tj*(k3+1)) * ( 1/(d1-1) +1/(d2-1) -1/(d3-1) -k3-1 )\n",
    "        if(k1 == 0 and k2 != 0) :\n",
    "            d2p = d2/(tj*k2) * ( 1/(d3-1)-(k3-1)/(k3*(d2-1)) -k2 )\n",
    "            d3p = d3/(tj*k3) * (1/(d2-1)-k3)\n",
    "        if(k2 == 0 and k3 != 0) :\n",
    "            d1p = d1/(tj*k1) * ( 1/(d3-1)-(k3-1)/(k3*(d1-1)) -k1 )\n",
    "            d3p = d3/(tj*k3) * (1/(d1-1)-k3)\n",
    "        \n",
    "        delta1_[j-1] = d1+(tjm1-tj)*d1p\n",
    "        delta2_[j-1] = d2+(tjm1-tj)*d2p\n",
    "        delta3_[j-1] = d3+(tjm1-tj)*d3p\n",
    "        \n",
    "        if(output['breakpoint'] == 0 and eps_f(j-1) > eps_f(j) ) :\n",
    "            output['breakpoint'] = j\n",
    "            if(correct) :\n",
    "                break\n",
    "\n",
    "    output['eps_star'] = eps_f(output['breakpoint'])\n",
    "    if(correct) :\n",
    "        ind = output['breakpoint']\n",
    "        delta1_[:ind+1] = np.linspace(l1,delta1_[ind],ind+1)\n",
    "        delta2_[:ind+1] = np.linspace(l2,delta2_[ind],ind+1)\n",
    "        delta3_[:ind+1] = np.linspace(l3,delta3_[ind],ind+1)\n",
    "        \n",
    "    output['delta1_'] = delta1_ ;   output['delta2_'] = delta2_ ;   output['delta3_'] = delta3_\n",
    "    output['values1_']=np.linspace(0,tstar,N+2)*delta1_\n",
    "    output['values2_']=np.linspace(0,tstar,N+2)*delta2_\n",
    "    output['values3_']=np.linspace(0,tstar,N+2)*delta3_\n",
    "    \n",
    "    return output"
   ]
  },
  {
   "cell_type": "code",
   "execution_count": 8,
   "metadata": {},
   "outputs": [],
   "source": [
    "def iterateGU(k1,k2,k3,eps=10**-4,nb_eval_max=100,N=10_000,show_msg=False,display_graphs=False,correct=True) :\n",
    "    l1 = (1+1/(k2+k3))*(k1!=0)\n",
    "    l2 = (1+1/(k1+k3))*(k2!=0)\n",
    "    l3 = (1+1/(k1+k2+k3-1))*(k3!=0)\n",
    "    \n",
    "    a = 1/max(l1,l2,l3)\n",
    "    b = 1/np.min(np.where(np.equal([l1,l2,l3],0),np.inf,[l1,l2,l3]))   \n",
    "                 \n",
    "    tau = (np.sqrt(5)-1)/2\n",
    "    \n",
    "    x_1 = a + (1-tau)*(b-a)\n",
    "    f_1 = shootGU(x_1,k1,k2,k3,N=N,correct=correct)\n",
    "    \n",
    "    x_2 = a + tau*(b-a)\n",
    "    f_2 = shootGU(x_2,k1,k2,k3,N=N,correct=correct)\n",
    "    \n",
    "    i=2\n",
    "    while(f_1['eps_star']>eps and f_2['eps_star']>eps and i < nb_eval_max) :\n",
    "        if(f_1['eps_star'] > f_2['eps_star']) :\n",
    "            a = x_1\n",
    "            x_1 = x_2\n",
    "            f_1 = f_2\n",
    "            x_2 = a + tau*(b-a)\n",
    "            f_2 = shootGU(x_2,k1,k2,k3,N=N,correct=correct)\n",
    "        else :\n",
    "            b = x_2\n",
    "            x_2 = x_1\n",
    "            f_2 = f_1\n",
    "            x_1 = a + (1-tau)*(b-a)\n",
    "            f_1 = shootGU(x_1,k1,k2,k3,N=N,correct=correct)\n",
    "        i+=1\n",
    "    \n",
    "    if(show_msg) :\n",
    "        print(\"Nb of eval :\",i)\n",
    "        print(\"eps_star :\",min(f_1['eps_star'],f_2['eps_star']))\n",
    "        if(f_1['eps_star']<f_2['eps_star']) :\n",
    "            print(\"tstar :\",f_1['tstar'])\n",
    "        else :\n",
    "            print(\"tstar :\",f_2['tstar'])\n",
    "        if(i==nb_eval_max) :\n",
    "            print(\"Maximum number of evaluations reached\")\n",
    "            \n",
    "            \n",
    "    if(f_1['eps_star']<f_2['eps_star']) :\n",
    "        if(display_graphs) :\n",
    "            displayGU(f_1)\n",
    "        return f_1\n",
    "    else :\n",
    "        if(display_graphs) :\n",
    "            displayGU(f_2)\n",
    "        return f_2"
   ]
  },
  {
   "cell_type": "markdown",
   "metadata": {},
   "source": [
    "### Scenarios"
   ]
  },
  {
   "cell_type": "code",
   "execution_count": 9,
   "metadata": {},
   "outputs": [],
   "source": [
    "def scenarioGU_1(ks,kw,alpha,eps=10**-4,nb_eval_max=100,N=10_000,show_msg=False,display_graphs=False,correct=True) :\n",
    "    k1 = ks*alpha\n",
    "    k2 = 0\n",
    "    k3 = kw\n",
    "    \n",
    "    out = iterateGU(k1,k2,k3,eps=eps,nb_eval_max=nb_eval_max,N=N,show_msg=show_msg,display_graphs=display_graphs,correct=correct)\n",
    "    \n",
    "    b_ = np.linspace(0,out['tstar'],N+2)\n",
    "    \n",
    "    v1 = lambda b:array_to_f(b,b_,out['values1_'])\n",
    "    #v2 = lambda b:array_to_f(b,b_,out['values2_'])\n",
    "    v3 = lambda b:array_to_f(b,b_,out['values3_'])\n",
    "    \n",
    "    b1 = lambda v:array_to_inverse_f(v,b_,out['values1_'])\n",
    "    #b2 = lambda v:array_to_inverse_f(v,b_,out['values2_'])\n",
    "    b3 = lambda v:array_to_inverse_f(v,b_,out['values3_'])\n",
    "    \n",
    "    integrand_coal = lambda v : (v-b1(v)) * v3(b1(v))**k3 * k1*v**(k1-1)\n",
    "    integrand_ext = lambda v : (v-b3(v)) * v1(b3(v))**k1 * k3*v**(k3-1)\n",
    "    \n",
    "    res = {}\n",
    "    res['coal_sum'] = integrate.quad(integrand_coal, 0, 1, limit=2000, epsabs=10**-11,epsrel=10**-11)[0]\n",
    "    res['coal_ind'] = res['coal_sum']/ks\n",
    "    \n",
    "    res['ext_sum'] = integrate.quad(integrand_ext, 0, 1, limit=2000, epsabs=10**-11,epsrel=10**-11)[0]\n",
    "    res['ext_ind'] = res['ext_sum']/kw\n",
    "    return res"
   ]
  },
  {
   "cell_type": "code",
   "execution_count": 10,
   "metadata": {},
   "outputs": [],
   "source": [
    "def scenarioGU_2(ks,kw,alpha,eps=10**-4,nb_eval_max=100,N=10_000,show_msg=False,display_graphs=False,correct=True) :\n",
    "    k1 = (ks-1)*alpha\n",
    "    k2 = 1*alpha\n",
    "    k3 = kw\n",
    "    \n",
    "    out = iterateGU( k1, k2, k3, eps=eps,nb_eval_max=nb_eval_max,N=N,show_msg=show_msg,display_graphs=display_graphs,correct=correct)\n",
    "    \n",
    "    b_ = np.linspace(0,out['tstar'],N+2)\n",
    "        \n",
    "    v1 = lambda b:array_to_f(b,b_,out['values1_'])\n",
    "    v2 = lambda b:array_to_f(b,b_,out['values2_'])\n",
    "    v3 = lambda b:array_to_f(b,b_,out['values3_'])\n",
    "    \n",
    "    b1 = lambda v:array_to_inverse_f(v,b_,out['values1_'])\n",
    "    b2 = lambda v:array_to_inverse_f(v,b_,out['values2_'])\n",
    "    b3 = lambda v:array_to_inverse_f(v,b_,out['values3_'])\n",
    "    \n",
    "    integrand_coal = lambda v : (v-b1(v)) * v2(b1(v))**k2 * v3(b1(v))**k3 * k1*v**(k1-1)\n",
    "    integrand_strong = lambda v : (v-b2(v)) * v1(b2(v))**k1 * v3(b2(v))**k3 *  k2*v**(k2-1)\n",
    "    integrand_ext = lambda v : (v-b3(v)) * v1(b3(v))**k1 * v2(b3(v))**k2 * k3*v**(k3-1)\n",
    "    \n",
    "    res = {}\n",
    "    res['coal_sum'] = integrate.quad(integrand_coal, 0, 1, limit=2000, epsabs=10**-11,epsrel=10**-11)[0]\n",
    "    res['coal_ind'] = res['coal_sum']/(ks-1)\n",
    "    \n",
    "    res['strong_ind'] = integrate.quad(integrand_strong, 0, 1, limit=2000, epsabs=10**-11,epsrel=10**-11)[0]\n",
    "    \n",
    "    res['ext_sum'] = integrate.quad(integrand_ext, 0, 1, limit=2000, epsabs=10**-11,epsrel=10**-11)[0]\n",
    "    res['ext_ind'] = res['ext_sum']/kw\n",
    "    return res"
   ]
  },
  {
   "cell_type": "markdown",
   "metadata": {},
   "source": [
    "## <center>Tests</center>"
   ]
  },
  {
   "cell_type": "code",
   "execution_count": 20,
   "metadata": {},
   "outputs": [
    {
     "data": {
      "application/vnd.jupyter.widget-view+json": {
       "model_id": "60b959f0a87f4c8ca09a7f5ea1c1c820",
       "version_major": 2,
       "version_minor": 0
      },
      "text/plain": [
       "HBox(children=(IntProgress(value=0, max=99), HTML(value='')))"
      ]
     },
     "metadata": {},
     "output_type": "display_data"
    },
    {
     "name": "stdout",
     "output_type": "stream",
     "text": [
      "\n"
     ]
    }
   ],
   "source": [
    "m_ = np.arange(2,101)\n",
    "\n",
    "for m in tqdm(m_) :\n",
    "    shootGU((m-1)/m,1,0,m-1);#,show_msg=True,display_graphs=True);"
   ]
  },
  {
   "cell_type": "code",
   "execution_count": 19,
   "metadata": {},
   "outputs": [
    {
     "data": {
      "application/vnd.jupyter.widget-view+json": {
       "model_id": "181010411f814c85bef94c8adbb60f11",
       "version_major": 2,
       "version_minor": 0
      },
      "text/plain": [
       "HBox(children=(IntProgress(value=0, max=9), HTML(value='')))"
      ]
     },
     "metadata": {},
     "output_type": "display_data"
    },
    {
     "name": "stdout",
     "output_type": "stream",
     "text": [
      "\n"
     ]
    }
   ],
   "source": [
    "n = 10\n",
    "k_ = np.arange(1,n)\n",
    "\n",
    "for k in tqdm(k_) :   \n",
    "    iterateGU(k,n-k,0,eps=10**-5)#,display_graphs=True,show_msg=True)"
   ]
  },
  {
   "cell_type": "code",
   "execution_count": 9,
   "metadata": {},
   "outputs": [],
   "source": [
    "scores_ = {}"
   ]
  },
  {
   "cell_type": "markdown",
   "metadata": {},
   "source": [
    "#### [Marshall1994] Table III page 211 : Coalition vs Individuals\n",
    "$\\rightarrow$ Same results found with the previous method."
   ]
  },
  {
   "cell_type": "code",
   "execution_count": 23,
   "metadata": {
    "scrolled": false
   },
   "outputs": [
    {
     "data": {
      "application/vnd.jupyter.widget-view+json": {
       "model_id": "8212bbd9cc9347cf98c64a9785d81cd6",
       "version_major": 2,
       "version_minor": 0
      },
      "text/plain": [
       "HBox(children=(IntProgress(value=0, max=4), HTML(value='')))"
      ]
     },
     "metadata": {},
     "output_type": "display_data"
    },
    {
     "name": "stderr",
     "output_type": "stream",
     "text": [
      "/Users/m.hihat/opt/anaconda3/lib/python3.7/site-packages/ipykernel_launcher.py:22: IntegrationWarning: The occurrence of roundoff error is detected, which prevents \n",
      "  the requested tolerance from being achieved.  The error may be \n",
      "  underestimated.\n",
      "/Users/m.hihat/opt/anaconda3/lib/python3.7/site-packages/ipykernel_launcher.py:25: IntegrationWarning: The occurrence of roundoff error is detected, which prevents \n",
      "  the requested tolerance from being achieved.  The error may be \n",
      "  underestimated.\n"
     ]
    },
    {
     "name": "stdout",
     "output_type": "stream",
     "text": [
      "\n",
      "New approx. : Coalition vs Individuals, n = 5\n",
      "k 1 | in 0.0333333320 | out 0.0333274309\n",
      "k 2 | in 0.0349836630 | out 0.0371535677\n",
      "k 3 | in 0.0406771198 | out 0.0486479806\n",
      "k 4 | in 0.0568194232 | out 0.0856531160\n"
     ]
    }
   ],
   "source": [
    "n = 5\n",
    "k_ = np.arange(1,n)\n",
    "\n",
    "scores_[n] = {}\n",
    "\n",
    "for k in tqdm(k_) :   \n",
    "    \n",
    "    scores_[n][k] = {1:{}, 2:{}}\n",
    "    \n",
    "    res = scenarioGU_1(k,n-k,1,eps=10**-8)\n",
    "    scores_[n][k][1]['coal_ind'] = res['coal_ind']\n",
    "    scores_[n][k][1]['ext_ind'] = res['ext_ind']\n",
    "    \n",
    "print(\"New approx. : Coalition vs Individuals, n =\", n)\n",
    "for k in k_ :\n",
    "    print(\"k {} | in {:.10f} | out {:.10f}\".format(k,scores_[n][k][1]['coal_ind'],scores_[n][k][1]['ext_ind']))"
   ]
  },
  {
   "cell_type": "code",
   "execution_count": 30,
   "metadata": {
    "scrolled": false
   },
   "outputs": [
    {
     "name": "stdout",
     "output_type": "stream",
     "text": [
      "Old approx : Coalition vs Individuals, n = 5\n",
      "k 1 | in 0.0333333324 | out 0.0333274309\n",
      "k 2 | in 0.0349836630 | out 0.0371535677\n",
      "k 3 | in 0.0406771199 | out 0.0486479806\n",
      "k 4 | in 0.0568194233 | out 0.0856531157\n"
     ]
    }
   ],
   "source": [
    "file_ = pickle.load(open(\"scenarios_.pickle\",'rb'))\n",
    "\n",
    "print(\"Old approx : Coalition vs Individuals, n =\", n)\n",
    "for k in k_ :\n",
    "    print(\"k {} | in {:.10f} | out {:.10f}\".format(k,file_[n][k][3]['in'],file_[n][k][3]['out']))"
   ]
  },
  {
   "cell_type": "markdown",
   "metadata": {},
   "source": [
    "## <center> Large test</center>\n",
    "\n",
    "For different strength values $\\alpha=\\frac{1}{19}, \\frac{1}{9}, \\frac{1}{4}, \\frac{1}{2}, 1, 3, 9$ which corresponds to the strong agents with average values of : $\\frac{1}{20},\\frac{1}{10}, \\frac{1}{5}, \\frac{1}{3}, \\frac{1}{2}, \\frac{3}{4}$. (...)"
   ]
  },
  {
   "cell_type": "code",
   "execution_count": 11,
   "metadata": {},
   "outputs": [],
   "source": [
    "#res_ = {}\n",
    "alpha_ = [1/19,1/9,1/4,1/2,1,3,9]\n",
    "n_ = np.arange(3,16)"
   ]
  },
  {
   "cell_type": "code",
   "execution_count": 425,
   "metadata": {
    "scrolled": false
   },
   "outputs": [
    {
     "data": {
      "application/vnd.jupyter.widget-view+json": {
       "model_id": "682ada6d4b004eed987f8e2ea59c05c3",
       "version_major": 2,
       "version_minor": 0
      },
      "text/plain": [
       "HBox(children=(IntProgress(value=0, max=1), HTML(value='')))"
      ]
     },
     "metadata": {},
     "output_type": "display_data"
    },
    {
     "data": {
      "application/vnd.jupyter.widget-view+json": {
       "model_id": "1535407468054d3e9996f8f2cc515454",
       "version_major": 2,
       "version_minor": 0
      },
      "text/plain": [
       "HBox(children=(IntProgress(value=0, max=13), HTML(value='')))"
      ]
     },
     "metadata": {},
     "output_type": "display_data"
    },
    {
     "name": "stderr",
     "output_type": "stream",
     "text": [
      "/Users/m.hihat/opt/anaconda3/lib/python3.7/site-packages/ipykernel_launcher.py:22: IntegrationWarning: The occurrence of roundoff error is detected, which prevents \n",
      "  the requested tolerance from being achieved.  The error may be \n",
      "  underestimated.\n",
      "/Users/m.hihat/opt/anaconda3/lib/python3.7/site-packages/ipykernel_launcher.py:25: IntegrationWarning: The occurrence of roundoff error is detected, which prevents \n",
      "  the requested tolerance from being achieved.  The error may be \n",
      "  underestimated.\n",
      "/Users/m.hihat/opt/anaconda3/lib/python3.7/site-packages/ipykernel_launcher.py:23: IntegrationWarning: The occurrence of roundoff error is detected, which prevents \n",
      "  the requested tolerance from being achieved.  The error may be \n",
      "  underestimated.\n",
      "/Users/m.hihat/opt/anaconda3/lib/python3.7/site-packages/ipykernel_launcher.py:26: IntegrationWarning: The occurrence of roundoff error is detected, which prevents \n",
      "  the requested tolerance from being achieved.  The error may be \n",
      "  underestimated.\n",
      "/Users/m.hihat/opt/anaconda3/lib/python3.7/site-packages/ipykernel_launcher.py:28: IntegrationWarning: The occurrence of roundoff error is detected, which prevents \n",
      "  the requested tolerance from being achieved.  The error may be \n",
      "  underestimated.\n"
     ]
    },
    {
     "name": "stdout",
     "output_type": "stream",
     "text": [
      "\n",
      "\n"
     ]
    }
   ],
   "source": [
    "alpha_ = [1/19,1/9,1/4,1/2,1,3,9]\n",
    "n_ = np.arange(3,16)\n",
    "\n",
    "for alpha in tqdm(alpha_) :\n",
    "    res_[alpha] = np.ones((len(n_),n_[-1]-2))*np.nan\n",
    "    for n in tqdm(n_) :\n",
    "        for ks in np.arange(2,n) :\n",
    "            res_[alpha][n-3][ks-2] = scenarioGU_1(ks,n-ks,alpha,eps=10**-8)['coal_ind']-scenarioGU_2(ks,n-ks,alpha,eps=10**-8)['strong_ind']"
   ]
  },
  {
   "cell_type": "code",
   "execution_count": 430,
   "metadata": {},
   "outputs": [],
   "source": [
    "#pickle.dump(res_,open(\"GU_defection_profit_eps8.pickle\",\"wb\"))"
   ]
  },
  {
   "cell_type": "markdown",
   "metadata": {},
   "source": [
    "### Loading pickle"
   ]
  },
  {
   "cell_type": "code",
   "execution_count": 5,
   "metadata": {},
   "outputs": [
    {
     "name": "stdout",
     "output_type": "stream",
     "text": [
      "[0.05263158 0.11111111 0.25       0.5        1.         3.\n",
      " 9.        ]\n",
      "[0.05       0.1        0.2        0.33333333 0.5        0.75\n",
      " 0.9       ]\n"
     ]
    }
   ],
   "source": [
    "res_ = pickle.load(open(\"GU_defection_profit_eps8.pickle\",\"rb\"))\n",
    "alpha_ = np.array([1/19,1/9,1/4,1/2,1,3,9])\n",
    "print(alpha_)\n",
    "print(alpha_/(alpha_+1))\n",
    "n_ = np.arange(3,16)"
   ]
  },
  {
   "cell_type": "code",
   "execution_count": 52,
   "metadata": {},
   "outputs": [
    {
     "name": "stdout",
     "output_type": "stream",
     "text": [
      "[-1.e-01 -1.e-02 -1.e-03 -1.e-04 -1.e-05 -1.e-06 -1.e-07 -1.e-08  0.e+00\n",
      "  1.e-08  1.e-07  1.e-06  1.e-05  1.e-04  1.e-03  1.e-02  1.e-01]\n"
     ]
    }
   ],
   "source": [
    "#emin = [np.floor(np.log10(np.min(np.where(np.isnan(res_[alpha]),np.inf,np.abs(res_[alpha]))))) for alpha in alpha_]\n",
    "emin = -8#min(emin)\n",
    "\n",
    "#emax = [np.ceil(np.log10(np.max(np.where(np.isnan(res_[alpha]),-np.inf,np.abs(res_[alpha]))))) for alpha in alpha_]\n",
    "emax = -1.0#max(emax)\n",
    "\n",
    "cbar_ticks = np.zeros(1)\n",
    "cbar_ticks = np.append(-np.flip(np.power(10,np.arange(emin,emax+1))),cbar_ticks)\n",
    "cbar_ticks = np.append(cbar_ticks,np.power(10,np.arange(emin,emax+1)))\n",
    "print(cbar_ticks)"
   ]
  },
  {
   "cell_type": "code",
   "execution_count": 60,
   "metadata": {},
   "outputs": [
    {
     "name": "stdout",
     "output_type": "stream",
     "text": [
      "['$-10^{-1}$' '' '$-10^{-3}$' '' '$-10^{-5}$' '' '$-10^{-7}$' '' '0' ''\n",
      " '$10^{-7}$' '' '$10^{-5}$' '' '$10^{-3}$' '' '$10^{-1}$']\n"
     ]
    }
   ],
   "source": [
    "tmp = [r\"$-10^{{{:d}}}$\".format(i) for i in np.flip(range(emin,np.int(emax)+1))]+[\"0\"]+[r\"$10^{{{:d}}}$\".format(i) for i in range(emin,np.int(emax)+1)]\n",
    "cbar_ticks_labels = np.where(np.arange(len(cbar_ticks))%2==0,tmp,r'')\n",
    "print(cbar_ticks_labels)\n",
    "del tmp"
   ]
  },
  {
   "cell_type": "code",
   "execution_count": 79,
   "metadata": {},
   "outputs": [
    {
     "data": {
      "image/png": "[encoded data removed]",
      "text/plain": [
       "<Figure size 360x288 with 2 Axes>"
      ]
     },
     "metadata": {
      "needs_background": "light"
     },
     "output_type": "display_data"
    }
   ],
   "source": [
    "i = 1\n",
    "plt.figure(figsize=(5,5*0.8))\n",
    "\n",
    "for alpha in [1] :\n",
    "    #plt.subplot(1,2,i)\n",
    "    \n",
    "    flipped = np.flip(np.transpose(res_[alpha]),axis=0)\n",
    "    \n",
    "    sns.heatmap(flipped,\n",
    "                xticklabels=xtick_labels,yticklabels=ytick_labels,\n",
    "                vmin = -10**emax, vmax=10**emax,\n",
    "                mask=np.isnan(flipped),center=0,\n",
    "                norm=SymLogNorm(linthresh=10**emin),\n",
    "                cbar_kws={\"ticks\": cbar_ticks},\n",
    "                cmap=sns.diverging_palette(10,130,sep=50,n=16,as_cmap=False),#,s=85,l=53,sep=50,as_cmap=False,n=16),\n",
    "                square=True,linewidths=.5)\n",
    "    \n",
    "    cbar = ax.collections[0].colorbar\n",
    "    cbar.set_ticklabels(cbar_ticks_labels)\n",
    "    \n",
    "    plt.text(1,4,r\"$\\gamma=1$\")\n",
    "    plt.xlabel(r\"number of agents $n$\")\n",
    "    plt.ylabel(r\"number of members $k$\")\n",
    "    i=i+1\n",
    "\n",
    "plt.savefig(\"defection_loss_sym.png\")\n",
    "plt.show()"
   ]
  },
  {
   "cell_type": "code",
   "execution_count": 21,
   "metadata": {},
   "outputs": [
    {
     "data": {
      "text/plain": [
       "[0.05263157894736842, 0.1111111111111111, 0.25, 0.5, 1, 3, 9]"
      ]
     },
     "execution_count": 21,
     "metadata": {},
     "output_type": "execute_result"
    }
   ],
   "source": [
    "alpha_"
   ]
  },
  {
   "cell_type": "code",
   "execution_count": 149,
   "metadata": {},
   "outputs": [],
   "source": [
    "plt.rcParams.update({\n",
    "    \"text.usetex\": True,\n",
    "    \"font.family\": \"serif\",\n",
    "    \"font.serif\": [\"Times New Roman\"],\n",
    "    \"font.size\" : 20\n",
    "})"
   ]
  },
  {
   "cell_type": "code",
   "execution_count": 10,
   "metadata": {},
   "outputs": [],
   "source": [
    "#sns.set(font_scale=1.5)"
   ]
  },
  {
   "cell_type": "code",
   "execution_count": 8,
   "metadata": {},
   "outputs": [],
   "source": [
    "xtick_labels = np.where(np.arange(len(n_))%2==0,n_,\"\")\n",
    "ytick_labels = np.where(np.arange(len(n_))%2==0,np.flip(n_-1),\"\")"
   ]
  },
  {
   "cell_type": "code",
   "execution_count": 155,
   "metadata": {},
   "outputs": [
    {
     "data": {
      "image/png": "[encoded data removed]",
      "text/plain": [
       "<Figure size 360x288 with 1 Axes>"
      ]
     },
     "metadata": {
      "needs_background": "light"
     },
     "output_type": "display_data"
    }
   ],
   "source": [
    "i=1\n",
    "\n",
    "alpha = alpha_[0]\n",
    "\n",
    "plt.figure(figsize=(5,5*0.8))#(figsize=(15/2,12/2))\n",
    "    \n",
    "flipped = np.flip(np.transpose(res_[alpha]),axis=0)\n",
    "\n",
    "ax = sns.heatmap(flipped,\n",
    "            xticklabels=xtick_labels,yticklabels=ytick_labels,\n",
    "            vmin = -10**emax, vmax=10**emax,\n",
    "            mask=np.isnan(flipped),center=0,\n",
    "            norm=SymLogNorm(linthresh=10**emin),\n",
    "            cbar=False,\n",
    "            #cbar_kws={\"ticks\": cbar_ticks},\n",
    "            cmap=sns.diverging_palette(10,130,sep=50,n=16,as_cmap=False),#,s=85,l=53,sep=50,as_cmap=False,n=16),\n",
    "            square=True,linewidths=.05)\n",
    "\n",
    "#cbar = ax.collections[0].colorbar\n",
    "#cbar.set_ticklabels(cbar_ticks_labels)\n",
    "plt.text(1.4,4.5,text_[i-1])\n",
    "plt.xlabel(r\"number of agents $n$\")\n",
    "plt.ylabel(r\"number of members $k$\")\n",
    "plt.tight_layout()\n",
    "\n",
    "plt.savefig(\"defection_loss_asym_{}.png\".format(i))\n",
    "plt.show()\n",
    "i=i+1"
   ]
  },
  {
   "cell_type": "code",
   "execution_count": 153,
   "metadata": {
    "scrolled": false
   },
   "outputs": [
    {
     "data": {
      "image/png": "[encoded data removed]",
      "text/plain": [
       "<Figure size 360x288 with 1 Axes>"
      ]
     },
     "metadata": {
      "needs_background": "light"
     },
     "output_type": "display_data"
    },
    {
     "data": {
      "image/png": "[encoded data removed]",
      "text/plain": [
       "<Figure size 360x288 with 1 Axes>"
      ]
     },
     "metadata": {
      "needs_background": "light"
     },
     "output_type": "display_data"
    },
    {
     "data": {
      "image/png": "[encoded data removed]",
      "text/plain": [
       "<Figure size 360x288 with 1 Axes>"
      ]
     },
     "metadata": {
      "needs_background": "light"
     },
     "output_type": "display_data"
    }
   ],
   "source": [
    "i=2\n",
    "text_ = [r\"$\\gamma=1/19$\",r\"$\\gamma=1/4$\",r\"$\\gamma=1$\",r\"$\\gamma=3$\",r\"$\\gamma=9$\"]\n",
    "for alpha in [alpha_[2],alpha_[4],alpha_[-2]] :\n",
    "    plt.figure(figsize=(5,5*0.8))#(figsize=(15/2,12/2))\n",
    "    \n",
    "    flipped = np.flip(np.transpose(res_[alpha]),axis=0)\n",
    "    \n",
    "    ax = sns.heatmap(flipped,\n",
    "                xticklabels=xtick_labels,\n",
    "                yticklabels=ytick_labels,\n",
    "                vmin = -10**emax, vmax=10**emax,\n",
    "                mask=np.isnan(flipped),center=0,\n",
    "                norm=SymLogNorm(linthresh=10**emin),\n",
    "                cbar=False,\n",
    "                #cbar_kws={\"ticks\": cbar_ticks},\n",
    "                cmap=sns.diverging_palette(10,130,sep=50,n=16,as_cmap=False),#,s=85,l=53,sep=50,as_cmap=False,n=16),\n",
    "                square=True,linewidths=.05)\n",
    "    \n",
    "    #cbar = ax.collections[0].colorbar\n",
    "    #cbar.set_ticklabels(cbar_ticks_labels)\n",
    "    plt.text(2,4,text_[i-1])\n",
    "    #plt.xlabel(r\"$n$\")\n",
    "    #plt.xlabel(r\"number of agents $n$\")\n",
    "    #plt.ylabel(r\"number of members $k$\")\n",
    "    plt.tight_layout()\n",
    "    \n",
    "    plt.savefig(\"defection_loss_asym_{}.png\".format(i))\n",
    "    plt.show()\n",
    "    i=i+1"
   ]
  },
  {
   "cell_type": "code",
   "execution_count": 152,
   "metadata": {},
   "outputs": [
    {
     "data": {
      "image/png": "[encoded data removed]",
      "text/plain": [
       "<Figure size 360x288 with 2 Axes>"
      ]
     },
     "metadata": {
      "needs_background": "light"
     },
     "output_type": "display_data"
    }
   ],
   "source": [
    "i=5\n",
    "alpha = alpha_[-1]\n",
    "plt.figure(figsize=(5,5*0.8))#(figsize=(15/2,12/2))\n",
    "\n",
    "flipped = np.flip(np.transpose(res_[alpha]),axis=0)\n",
    "\n",
    "ax = sns.heatmap(flipped,\n",
    "            xticklabels=xtick_labels,\n",
    "            yticklabels=ytick_labels,\n",
    "            vmin = -10**emax, vmax=10**emax,\n",
    "            mask=np.isnan(flipped),center=0,\n",
    "            norm=SymLogNorm(linthresh=10**emin),\n",
    "            #cbar=False,\n",
    "            cbar_kws={\"ticks\": cbar_ticks},\n",
    "            cmap=sns.diverging_palette(10,130,sep=50,n=16,as_cmap=False),#,s=85,l=53,sep=50,as_cmap=False,n=16),\n",
    "            square=True,linewidths=.05)\n",
    "\n",
    "cbar = ax.collections[0].colorbar\n",
    "cbar.set_ticklabels(cbar_ticks_labels)\n",
    "plt.text(2.5,4,text_[i-1])\n",
    "plt.xlabel(\" \")#plt.xlabel(r\"number of agents $n$\")\n",
    "#plt.ylabel(r\"number of members $k$\")\n",
    "plt.tight_layout()\n",
    "\n",
    "plt.savefig(\"defection_loss_asym_{}.png\".format(i))\n",
    "plt.show()\n",
    "i=i+1"
   ]
  }
 ],
 "metadata": {
  "kernelspec": {
   "display_name": "Python 3",
   "language": "python",
   "name": "python3"
  },
  "language_info": {
   "codemirror_mode": {
    "name": "ipython",
    "version": 3
   },
   "file_extension": ".py",
   "mimetype": "text/x-python",
   "name": "python",
   "nbconvert_exporter": "python",
   "pygments_lexer": "ipython3",
   "version": "3.7.3"
  }
 },
 "nbformat": 4,
 "nbformat_minor": 2
}
