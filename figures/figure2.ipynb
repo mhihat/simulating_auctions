{
 "cells": [
  {
   "cell_type": "markdown",
   "metadata": {},
   "source": [
    "# Generating Figure 2"
   ]
  },
  {
   "cell_type": "code",
   "execution_count": 1,
   "metadata": {},
   "outputs": [],
   "source": [
    "%load_ext autoreload\n",
    "%autoreload 2\n",
    "from figure2_functions import *\n",
    "from tqdm.notebook import tqdm\n",
    "import pickle\n",
    "import matplotlib.pyplot as plt\n",
    "import seaborn as sns\n",
    "from matplotlib.colors import SymLogNorm"
   ]
  },
  {
   "cell_type": "markdown",
   "metadata": {},
   "source": [
    "### Running simulations"
   ]
  },
  {
   "cell_type": "markdown",
   "metadata": {},
   "source": [
    "Simulating scenarios for different strength values $\\alpha=\\frac{1}{19}, 1, 3, 9$ (corresponds to buyers with average values of : $\\frac{1}{20}, \\frac{1}{2}, \\frac{3}{4},  \\frac{9}{10}$) using backwards shooting."
   ]
  },
  {
   "cell_type": "code",
   "execution_count": 2,
   "metadata": {},
   "outputs": [],
   "source": [
    "res_ = {}\n",
    "alpha_ = [1/19,1,3,9]\n",
    "n_ = np.arange(3,16)"
   ]
  },
  {
   "cell_type": "code",
   "execution_count": null,
   "metadata": {
    "scrolled": false
   },
   "outputs": [],
   "source": [
    "for alpha in tqdm(alpha_) :\n",
    "    res_[alpha] = np.ones((len(n_),n_[-1]-2))*np.nan\n",
    "    for n in tqdm(n_) :\n",
    "        for ks in np.arange(2,n) :\n",
    "            res_[alpha][n-3][ks-2] = scenarioGU_1(ks,n-ks,alpha,eps=10**-8)['coal_ind']-scenarioGU_2(ks,n-ks,alpha,eps=10**-8)['strong_ind']"
   ]
  },
  {
   "cell_type": "markdown",
   "metadata": {},
   "source": [
    "## Plots"
   ]
  },
  {
   "cell_type": "code",
   "execution_count": 4,
   "metadata": {},
   "outputs": [],
   "source": [
    "text_ = [r\"$\\gamma=1/19$\",r\"$\\gamma=1$\",r\"$\\gamma=3$\",r\"$\\gamma=9$\"]\n",
    "\n",
    "xtick_labels = np.where(np.arange(len(n_))%2==0,n_,\"\")\n",
    "xtick_labels = np.append(xtick_labels,[\" \"])\n",
    "xtick_labels = np.tile(xtick_labels,4)[:-1]\n",
    "\n",
    "ytick_labels = np.where(np.arange(len(n_))%2==0,np.flip(n_-1),\"\")\n",
    "\n",
    "emax = -1.0\n",
    "emin = -8\n",
    "\n",
    "cbar_ticks = np.append(-np.flip(np.power(10,np.arange(emin,emax+1))),np.zeros(1))\n",
    "cbar_ticks = np.append(cbar_ticks,np.power(10,np.arange(emin,emax+1)))\n",
    "\n",
    "cbar_ticks_labels = [r\"$-10^{{{:d}}}$\".format(i) for i in np.flip(range(emin,int(emax)+1))]+[\"0\"]+[r\"$10^{{{:d}}}$\".format(i) for i in range(emin,int(emax)+1)]\n",
    "cbar_ticks_labels = np.where(np.arange(len(cbar_ticks))%2==0,cbar_ticks_labels,r'')"
   ]
  },
  {
   "cell_type": "code",
   "execution_count": 5,
   "metadata": {},
   "outputs": [],
   "source": [
    "displayed_array = np.zeros((13,13*4+3))\n",
    "displayed_array *= np.nan\n",
    "for i in range(4) :\n",
    "    displayed_array[:,13*i+i:13*(i+1)+i] = np.flip(np.transpose(res_[alpha_[i]]),axis=0)"
   ]
  },
  {
   "cell_type": "code",
   "execution_count": 6,
   "metadata": {},
   "outputs": [
    {
     "data": {
      "image/png": "[encoded data removed]",
      "text/plain": [
       "<Figure size 1152x288 with 2 Axes>"
      ]
     },
     "metadata": {
      "needs_background": "light"
     },
     "output_type": "display_data"
    }
   ],
   "source": [
    "plt.figure(figsize=(16,5*0.8))\n",
    "sns.heatmap(displayed_array,\n",
    "            xticklabels=xtick_labels,yticklabels=ytick_labels,\n",
    "            vmin = -10**emax,\n",
    "            vmax= 10**emax,\n",
    "            mask=np.isnan(displayed_array),center=0,\n",
    "            norm=SymLogNorm(linthresh=10**emin),\n",
    "            cbar = True,\n",
    "            #cbar_ax= None if i!=1 else cbar_ax,\n",
    "            cbar_kws={\"ticks\": cbar_ticks},\n",
    "            cmap=sns.diverging_palette(10,130,sep=50,n=16,as_cmap=True),#,s=85,l=53,sep=50,as_cmap=False,n=16),\n",
    "            square=True,linewidths=.5)\n",
    "for i in range(len(text_)) :\n",
    "    plt.text(1+i*14,1,text_[i])\n",
    "\n",
    "plt.xlabel(r\"number of agents $n$\")\n",
    "plt.ylabel(r\"number of members $k$\")\n",
    "plt.savefig(\"images/defection_loss_sym.png\",dpi=300)\n",
    "plt.show()"
   ]
  }
 ],
 "metadata": {
  "interpreter": {
   "hash": "6383aeee208c7c4871674175248fe5a53f0ead67f255309f3ac9f86a728c0862"
  },
  "kernelspec": {
   "display_name": "Python 3.8.5 64-bit ('.env': venv)",
   "language": "python",
   "name": "python3"
  },
  "language_info": {
   "codemirror_mode": {
    "name": "ipython",
    "version": 3
   },
   "file_extension": ".py",
   "mimetype": "text/x-python",
   "name": "python",
   "nbconvert_exporter": "python",
   "pygments_lexer": "ipython3",
   "version": "3.8.5"
  },
  "orig_nbformat": 4
 },
 "nbformat": 4,
 "nbformat_minor": 2
}
