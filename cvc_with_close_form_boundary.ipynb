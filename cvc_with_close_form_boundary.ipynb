{
 "cells": [
  {
   "cell_type": "markdown",
   "metadata": {},
   "source": [
    "## Coalition vs Coalition: simulations using close-form boundary $t_*$"
   ]
  },
  {
   "cell_type": "code",
   "execution_count": 1,
   "metadata": {},
   "outputs": [],
   "source": [
    "from functions import *"
   ]
  },
  {
   "cell_type": "markdown",
   "metadata": {},
   "source": [
    "### Without function correction"
   ]
  },
  {
   "cell_type": "code",
   "execution_count": null,
   "metadata": {},
   "outputs": [],
   "source": [
    "for (k1,k2) in [(3,2),(4,1),(100,1)] :\n",
    "    out = marshall1_close_form_boundary(k1,k2,correct=False)\n",
    "    print('Close form boundary', out['tstar'])\n",
    "    print('eps_star', out['eps_star'])\n",
    "    \n",
    "    display(out)"
   ]
  },
  {
   "cell_type": "markdown",
   "metadata": {},
   "source": [
    "### With function correction"
   ]
  },
  {
   "cell_type": "code",
   "execution_count": null,
   "metadata": {},
   "outputs": [],
   "source": [
    "for (k1,k2) in [(3,2),(4,1),(100,1)] :\n",
    "    out = marshall1_close_form_boundary(k1,k2,correct=True)\n",
    "    print('Close form boundary', out['tstar'])\n",
    "    print('eps_star', out['eps_star'])\n",
    "    \n",
    "    display(out)"
   ]
  }
 ],
 "metadata": {
  "interpreter": {
   "hash": "6383aeee208c7c4871674175248fe5a53f0ead67f255309f3ac9f86a728c0862"
  },
  "kernelspec": {
   "display_name": "Python 3.8.5 64-bit ('.env': venv)",
   "language": "python",
   "name": "python3"
  },
  "language_info": {
   "codemirror_mode": {
    "name": "ipython",
    "version": 3
   },
   "file_extension": ".py",
   "mimetype": "text/x-python",
   "name": "python",
   "nbconvert_exporter": "python",
   "pygments_lexer": "ipython3",
   "version": "3.8.5"
  },
  "orig_nbformat": 4
 },
 "nbformat": 4,
 "nbformat_minor": 2
}
